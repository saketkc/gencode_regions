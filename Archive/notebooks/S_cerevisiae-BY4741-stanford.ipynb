{
 "cells": [
  {
   "cell_type": "raw",
   "metadata": {},
   "source": [
    "\n",
    "General GFF structure\n",
    "Position index\tPosition name\tDescription\n",
    "1\tsequence\tThe name of the sequence where the feature is located.\n",
    "2\tsource\tKeyword identifying the source of the feature, like a program (e.g. Augustus or RepeatMasker) or an organization (like TAIR).\n",
    "3\tfeature\tThe feature type name, like \"gene\" or \"exon\". In a well structured GFF file, all the children features always follow their parents in a single block (so all exons of a transcript are put after their parent \"transcript\" feature line and before any other parent transcript line). In GFF3, all features and their relationships should be compatible with the standards released by the Sequence Ontology Project.\n",
    "4\tstart\tGenomic start of the feature, with a 1-base offset. This is in contrast with other 0-offset half-open sequence formats, like BED files.\n",
    "5\tend\tGenomic end of the feature, with a 1-base offset. This is the same end coordinate as it is in 0-offset half-open sequence formats, like BED files.[citation needed]\n",
    "6\tscore\tNumeric value that generally indicates the confidence of the source on the annotated feature. A value of \".\" (a dot) is used to define a null value.\n",
    "7\tstrand\tSingle character that indicates the Sense (molecular biology) strand of the feature; it can assume the values of \"+\" (positive, or 5'->3'), \"-\", (negative, or 3'->5'), \".\" (undetermined).\n",
    "8\tframe (GTF, GFF2) or phase (GFF3)\tFrame or phase of CDS features; it can be either one of 0, 1, 2 (for CDS features) or \".\" (for everything else). Frame and Phase are not the same, See following subsection.\n",
    "9\tAttributes.\tAll the other information pertaining to this feature. The format, structure and content of this field is the one which varies the most between the three competing file formats."
   ]
  },
  {
   "cell_type": "code",
   "execution_count": 7,
   "metadata": {
    "ExecuteTime": {
     "end_time": "2017-10-27T19:02:43.142420Z",
     "start_time": "2017-10-27T19:02:43.035674Z"
    }
   },
   "outputs": [],
   "source": [
    "import pandas as pd\n",
    "df = pd.read_table('/home/cmb-panasas2/skchoudh/genomes/S_cerevisiae_BY4741/annotation/BY4741_JRIS00000000.gff',\n",
    "                   sep=' ',\n",
    "                   names= ['sequence', 'source', 'feature', 'start', 'end', 'score', 'strand', 'frame', 'attributes'])"
   ]
  },
  {
   "cell_type": "code",
   "execution_count": 8,
   "metadata": {
    "ExecuteTime": {
     "end_time": "2017-10-27T19:02:44.278066Z",
     "start_time": "2017-10-27T19:02:44.271848Z"
    }
   },
   "outputs": [],
   "source": [
    "## Row 11348 (1-based) onwards are sequences\n",
    "df = df #.iloc[:11348-1]"
   ]
  },
  {
   "cell_type": "code",
   "execution_count": 29,
   "metadata": {
    "ExecuteTime": {
     "end_time": "2017-10-27T20:17:55.431616Z",
     "start_time": "2017-10-27T20:17:55.266454Z"
    }
   },
   "outputs": [],
   "source": [
    "lines_to_write = \"\"\"##description: modified gtf from BY4741_JRIS00000000.gff\n",
    "##provider: saketkc\n",
    "##format: gtf\n",
    "##date: 2017-10-27\n",
    "\"\"\"\n",
    "contigs_info = ''\n",
    "undef_count = 1\n",
    "with open('/home/cmb-panasas2/skchoudh/genomes/S_cerevisiae_BY4741/annotation/BY4741_JRIS00000000.gff') as fh:\n",
    "    for line in fh:\n",
    "        line_splitted = line.strip().split(' ')\n",
    "        chrom, source, feature, start, end, score, strand, frame, attributes = line_splitted\n",
    "        start = int(start)\n",
    "        end = int(end)\n",
    "        if feature == 'gene':\n",
    "            feature = 'exon'\n",
    "        if feature == 'contig':\n",
    "            contigs_info += '{}\\t{}\\n'.format(chrom, end-start+1)\n",
    "            continue\n",
    "        ## Process attributes\n",
    "        attribute = attributes.split(';')[0]\n",
    "        ## The attrobutes are separated by ; indicating multiple blast hits\n",
    "        ## We deal with them by assigning to the hit with max percent identity\n",
    "        ## which is always the first one\n",
    "        if attribute=='UNDEF':\n",
    "            mod_attribute = 'gene_id \"UNDEF-{}\"; transcript_id \"UNDEF-{}-T\"; gene_name \"UNDEF-{};\"'\\\n",
    "            .format(undef_count, undef_count, undef_count)\n",
    "            undef_count +=1\n",
    "        else:\n",
    "            gene_id, genome, chromRef, startRef, startEnd, gene_name, evalue, percent_identity = attribute.split(',')\n",
    "            mod_attribute = 'gene_id \"{}\"; transcript_id \"{}-T\"; gene_name \"{}\"'\\\n",
    "            .format(gene_id, gene_id, gene_name)\n",
    "        lines_to_write += '{}\\t{}\\t{}\\t{}\\t{}\\t{}\\t{}\\t{}\\t{};\\n'\\\n",
    "        .format(chrom, source, feature, start, end, score, strand, frame, mod_attribute)"
   ]
  },
  {
   "cell_type": "code",
   "execution_count": 31,
   "metadata": {
    "ExecuteTime": {
     "end_time": "2017-10-27T20:19:23.734375Z",
     "start_time": "2017-10-27T20:19:23.703277Z"
    }
   },
   "outputs": [],
   "source": [
    "with open('/home/cmb-panasas2/skchoudh/genomes/S_cerevisiae_BY4741/annotation/BY4741_JRIS00000000.modified.gtf', 'w') as fh:\n",
    "    fh.write(lines_to_write)"
   ]
  }
 ],
 "metadata": {
  "kernelspec": {
   "display_name": "Python 2",
   "language": "python",
   "name": "python2"
  },
  "language_info": {
   "codemirror_mode": {
    "name": "ipython",
    "version": 2
   },
   "file_extension": ".py",
   "mimetype": "text/x-python",
   "name": "python",
   "nbconvert_exporter": "python",
   "pygments_lexer": "ipython2",
   "version": "2.7.11"
  },
  "toc": {
   "nav_menu": {},
   "number_sections": true,
   "sideBar": true,
   "skip_h1_title": false,
   "toc_cell": false,
   "toc_position": {},
   "toc_section_display": "block",
   "toc_window_display": false
  }
 },
 "nbformat": 4,
 "nbformat_minor": 2
}
