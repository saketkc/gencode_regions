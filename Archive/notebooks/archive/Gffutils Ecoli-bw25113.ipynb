{
 "cells": [
  {
   "cell_type": "code",
   "execution_count": 1,
   "metadata": {
    "ExecuteTime": {
     "end_time": "2017-09-28T02:28:24.965979Z",
     "start_time": "2017-09-28T02:28:22.600351Z"
    },
    "collapsed": true
   },
   "outputs": [],
   "source": [
    "from collections import defaultdict\n",
    "import warnings\n",
    "import logging\n",
    "import gffutils\n",
    "import pybedtools\n",
    "import pandas as pd\n",
    "import copy\n",
    "import re\n",
    "from gffutils.pybedtools_integration import tsses\n",
    "\n",
    "logging.basicConfig(level=logging.INFO)"
   ]
  },
  {
   "cell_type": "code",
   "execution_count": 2,
   "metadata": {
    "ExecuteTime": {
     "end_time": "2017-09-28T02:32:41.253829Z",
     "start_time": "2017-09-28T02:32:41.244442Z"
    },
    "collapsed": true
   },
   "outputs": [],
   "source": [
    "gtf = '/home/cmb-panasas2/skchoudh/genomes/escherichia_coli_bw25113/annotation/Escherichia_coli_bw25113.ASM75055v1.38.gtf'\n",
    "gtf_db = '/home/cmb-panasas2/skchoudh/genomes/escherichia_coli_bw25113/annotation/Escherichia_coli_bw25113.ASM75055v1.38.gtf.db'\n",
    "prefix = '/home/cmb-panasas2/skchoudh/genomes/escherichia_coli_bw25113/annotation/Escherichia_coli_bw25113.ASM75055v1.38.gffutils'\n",
    "chrsizes = '/home/cmb-panasas2/skchoudh/genomes/escherichia_coli_bw25113/fasta/Escherichia_coli_bw25113.ASM75055v1.dna.toplevel.sizes'"
   ]
  },
  {
   "cell_type": "code",
   "execution_count": 3,
   "metadata": {
    "ExecuteTime": {
     "end_time": "2017-09-28T02:32:58.708067Z",
     "start_time": "2017-09-28T02:32:48.324779Z"
    },
    "collapsed": true
   },
   "outputs": [],
   "source": [
    "db = gffutils.create_db(gtf, dbfn=gtf_db, disable_infer_genes=True, disable_infer_transcripts=True, merge_strategy='merge', force=True)\n",
    "def create_gene_dict(db):\n",
    "    '''\n",
    "    Store each feature line db.all_features() as a dict of dicts\n",
    "    '''\n",
    "    gene_dict = defaultdict(lambda: defaultdict(lambda: defaultdict(list)))\n",
    "    for line_no, feature in enumerate(db.all_features()):\n",
    "        gene_ids = feature.attributes['gene_id']\n",
    "        feature_type = feature.featuretype\n",
    "        if feature_type == 'gene':\n",
    "            if len(gene_ids)!=1:\n",
    "                logging.warning('Found multiple gene_ids on line {} in gtf'.format(line_no))\n",
    "                break\n",
    "            else:\n",
    "                gene_id = gene_ids[0]\n",
    "                gene_dict[gene_id]['gene'] = feature\n",
    "        else:\n",
    "            transcript_ids = feature.attributes['transcript_id']\n",
    "\n",
    "            for gene_id in gene_ids:\n",
    "                for transcript_id in transcript_ids:\n",
    "                    gene_dict[gene_id][transcript_id][feature_type].append(feature)\n",
    "    return gene_dict\n"
   ]
  },
  {
   "cell_type": "code",
   "execution_count": 4,
   "metadata": {
    "ExecuteTime": {
     "end_time": "2017-09-28T02:33:08.577337Z",
     "start_time": "2017-09-28T02:33:06.647153Z"
    },
    "collapsed": true
   },
   "outputs": [],
   "source": [
    "db = gffutils.FeatureDB(gtf_db, keep_order=True)\n",
    "gene_dict = create_gene_dict(db)\n"
   ]
  },
  {
   "cell_type": "code",
   "execution_count": 5,
   "metadata": {
    "ExecuteTime": {
     "end_time": "2017-09-28T02:33:11.907133Z",
     "start_time": "2017-09-28T02:33:11.894441Z"
    }
   },
   "outputs": [
    {
     "name": "stdout",
     "output_type": "stream",
     "text": [
      "CDS\n",
      "exon\n",
      "gene\n",
      "start_codon\n",
      "stop_codon\n",
      "transcript\n"
     ]
    }
   ],
   "source": [
    "for x in db.featuretypes():\n",
    "    print(x)"
   ]
  },
  {
   "cell_type": "code",
   "execution_count": 6,
   "metadata": {
    "ExecuteTime": {
     "end_time": "2017-09-28T02:34:11.724445Z",
     "start_time": "2017-09-28T02:34:11.609650Z"
    },
    "collapsed": true
   },
   "outputs": [],
   "source": [
    "def get_gene_list(gene_dict):\n",
    "    return list(set(gene_dict.keys()))\n",
    "\n",
    "def get_UTR_regions(gene_dict, gene_id, transcript, cds):\n",
    "    if len(cds)==0:\n",
    "        return [], []\n",
    "    utr5_regions = []\n",
    "    utr3_regions = []\n",
    "    utrs = gene_dict[gene_id][transcript]['UTR']\n",
    "    first_cds = cds[0]\n",
    "    last_cds = cds[-1]\n",
    "    for utr in utrs:\n",
    "        ## Push all cds at once\n",
    "        ## Sort later to remove duplicates\n",
    "        strand = utr.strand\n",
    "        if strand == '+':\n",
    "            if utr.stop < first_cds.start:\n",
    "                utr.feature_type = 'five_prime_UTR'\n",
    "                utr5_regions.append(utr)\n",
    "            elif utr.start > last_cds.stop:\n",
    "                utr.feature_type = 'three_prime_UTR'\n",
    "                utr3_regions.append(utr)\n",
    "            else:\n",
    "                raise RuntimeError('Error with cds')\n",
    "        elif strand == '-':\n",
    "            if utr.stop < first_cds.start:\n",
    "                utr.feature_type = 'three_prime_UTR'\n",
    "                utr3_regions.append(utr)\n",
    "            elif utr.start > last_cds.stop:\n",
    "                utr.feature_type = 'five_prime_UTR'\n",
    "                utr5_regions.append(utr)                \n",
    "            else:\n",
    "                raise RuntimeError('Error with cds')    \n",
    "    return utr5_regions, utr3_regions\n",
    "    \n",
    "def create_bed(regions, bedtype='0'):\n",
    "    '''Create bed from list of regions\n",
    "    bedtype: 0 or 1\n",
    "        0-Based or 1-based coordinate of the BED\n",
    "    '''\n",
    "    bedstr = ''\n",
    "    for region in regions:\n",
    "        assert len(region.attributes['gene_id']) == 1\n",
    "        ## GTF start is 1-based, so shift by one while writing \n",
    "        ## to 0-based BED format\n",
    "        if bedtype == '0':\n",
    "            start = region.start - 1\n",
    "        else:\n",
    "            start = region.start\n",
    "        bedstr += '{}\\t{}\\t{}\\t{}\\t{}\\t{}\\n'.format(region.chrom,\n",
    "                                             start,\n",
    "                                             region.stop,\n",
    "                                             re.sub('\\.\\d+', '', region.attributes['gene_id'][0]),\n",
    "                                             '.',\n",
    "                                             region.strand)\n",
    "    return bedstr\n",
    "\n",
    "def rename_regions(regions, gene_id):\n",
    "    regions = list(regions)\n",
    "    if len(regions) == 0:\n",
    "        return []\n",
    "    for region in regions:\n",
    "        region.attributes['gene_id'] = gene_id\n",
    "    return regions\n",
    "\n",
    "def merge_regions(db, regions):\n",
    "    if len(regions) == 0:\n",
    "        return []\n",
    "    merged = db.merge(sorted(list(regions), key=lambda x: x.start))\n",
    "    return merged\n",
    "\n",
    "def merge_regions_nostrand(db, regions):\n",
    "    if len(regions) == 0:\n",
    "        return []\n",
    "    merged = db.merge(sorted(list(regions), key=lambda x: x.start), ignore_strand=True)\n",
    "    return merged"
   ]
  },
  {
   "cell_type": "code",
   "execution_count": 7,
   "metadata": {
    "ExecuteTime": {
     "end_time": "2017-09-28T02:34:14.990366Z",
     "start_time": "2017-09-28T02:34:13.657189Z"
    }
   },
   "outputs": [
    {
     "data": {
      "text/plain": [
       "<BedTool(/home/cmb-panasas2/skchoudh/genomes/escherichia_coli_bw25113/annotation/Escherichia_coli_bw25113.ASM75055v1.38.gffutils.cds.bed)>"
      ]
     },
     "execution_count": 7,
     "metadata": {},
     "output_type": "execute_result"
    }
   ],
   "source": [
    "utr5_bed = ''\n",
    "utr3_bed = ''\n",
    "gene_bed = ''\n",
    "exon_bed = ''\n",
    "intron_bed = ''\n",
    "start_codon_bed = ''\n",
    "stop_codon_bed = ''\n",
    "cds_bed = ''\n",
    "\n",
    "gene_list = []\n",
    "\n",
    "for gene_id in get_gene_list(gene_dict):\n",
    "    gene_list.append(gene_dict[gene_id]['gene'])\n",
    "    \n",
    "    utr5_regions, utr3_regions = [], []\n",
    "    exon_regions, intron_regions = [], []\n",
    "    star_codon_regions, stop_codon_regions = [], []\n",
    "    cds_regions = []\n",
    "    \n",
    "    for feature in gene_dict[gene_id].keys():\n",
    "        if feature == 'gene':\n",
    "            continue\n",
    "        cds = list(gene_dict[gene_id][feature]['CDS'])\n",
    "        exons = list(gene_dict[gene_id][feature]['exon'])\n",
    "        merged_exons = merge_regions(db, exons)\n",
    "        introns = db.interfeatures(merged_exons)\n",
    "        utr5_region, utr3_region = get_UTR_regions(gene_dict, gene_id, feature, cds)\n",
    "        utr5_regions += utr5_region\n",
    "        utr3_regions += utr3_region\n",
    "        exon_regions += exons\n",
    "        intron_regions += introns\n",
    "        cds_regions += cds\n",
    "        \n",
    "    merged_utr5 = merge_regions(db, utr5_regions)\n",
    "    renamed_utr5 = rename_regions(merged_utr5, gene_id)\n",
    "    \n",
    "    merged_utr3 = merge_regions(db, utr3_regions)\n",
    "    renamed_utr3 = rename_regions(merged_utr3, gene_id)\n",
    "    \n",
    "    merged_exons = merge_regions(db, exon_regions)\n",
    "    renamed_exons = rename_regions(merged_exons, gene_id)\n",
    "    \n",
    "    merged_introns = merge_regions(db, intron_regions)\n",
    "    renamed_introns = rename_regions(merged_introns, gene_id)\n",
    "    \n",
    "    merged_cds = merge_regions(db, cds_regions)\n",
    "    renamed_cds = rename_regions(merged_cds, gene_id)\n",
    "    \n",
    "    utr3_bed += create_bed(renamed_utr3)\n",
    "    utr5_bed += create_bed(renamed_utr5)\n",
    "    exon_bed += create_bed(renamed_exons)\n",
    "    intron_bed += create_bed(renamed_introns)\n",
    "    cds_bed += create_bed(renamed_cds)\n",
    "    \n",
    "    \n",
    "gene_bed = create_bed(gene_list)\n",
    "gene_bedtool = pybedtools.BedTool(gene_bed, from_string=True)\n",
    "utr5_bedtool = pybedtools.BedTool(utr5_bed, from_string=True)\n",
    "utr3_bedtool = pybedtools.BedTool(utr3_bed, from_string=True)\n",
    "exon_bedtool = pybedtools.BedTool(exon_bed, from_string=True)\n",
    "intron_bedtool = pybedtools.BedTool(intron_bed, from_string=True)\n",
    "cds_bedtool = pybedtools.BedTool(cds_bed, from_string=True)\n",
    "\n",
    "gene_bedtool.remove_invalid().sort().saveas('{}.genes.bed'.format(prefix))\n",
    "utr5_bedtool.remove_invalid().sort().saveas('{}.UTR5.bed'.format(prefix))\n",
    "utr3_bedtool.remove_invalid().sort().saveas('{}.UTR3.bed'.format(prefix))\n",
    "exon_bedtool.remove_invalid().sort().saveas('{}.exon.bed'.format(prefix))\n",
    "intron_bedtool.remove_invalid().sort().saveas('{}.intron.bed'.format(prefix))\n",
    "cds_bedtool.remove_invalid().sort().saveas('{}.cds.bed'.format(prefix))\n"
   ]
  },
  {
   "cell_type": "code",
   "execution_count": 8,
   "metadata": {
    "ExecuteTime": {
     "end_time": "2017-09-28T02:34:36.211939Z",
     "start_time": "2017-09-28T02:34:17.020194Z"
    }
   },
   "outputs": [
    {
     "data": {
      "text/plain": [
       "<BedTool(/home/cmb-panasas2/skchoudh/genomes/escherichia_coli_bw25113/annotation/Escherichia_coli_bw25113.ASM75055v1.38.gffutils.stop_codon.bed)>"
      ]
     },
     "execution_count": 8,
     "metadata": {},
     "output_type": "execute_result"
    }
   ],
   "source": [
    "for gene_id in get_gene_list(gene_dict):\n",
    "    start_codons = []\n",
    "    stop_codons = []\n",
    "    for start_codon in db.children(gene_id, featuretype='start_codon'):\n",
    "        ## 1 -based stop\n",
    "        ## 0-based start handled while converting to bed\n",
    "        start_codon.stop = start_codon.start\n",
    "        start_codons.append(start_codon)\n",
    "    for stop_codon in db.children(gene_id, featuretype='stop_codon'):\n",
    "        stop_codon.start = stop_codon.stop\n",
    "        stop_codon.stop = stop_codon.stop+1\n",
    "        stop_codons.append(stop_codon)\n",
    "    merged_start_codons = merge_regions(db, start_codons)\n",
    "    renamed_start_codons = rename_regions(merged_start_codons, gene_id)\n",
    "    merged_stop_codons = merge_regions(db, stop_codons)\n",
    "    renamed_stop_codons = rename_regions(merged_stop_codons, gene_id)\n",
    "    \n",
    "    start_codon_bed += create_bed(renamed_start_codons)    \n",
    "    stop_codon_bed += create_bed(renamed_stop_codons)\n",
    "\n",
    "    \n",
    "start_codon_bedtool = pybedtools.BedTool(start_codon_bed, from_string=True)\n",
    "stop_codon_bedtool = pybedtools.BedTool(stop_codon_bed, from_string=True)\n",
    "start_codon_bedtool.remove_invalid().sort().saveas('{}.start_codon.bed'.format(prefix))\n",
    "stop_codon_bedtool.remove_invalid().sort().saveas('{}.stop_codon.bed'.format(prefix))"
   ]
  },
  {
   "cell_type": "code",
   "execution_count": 9,
   "metadata": {
    "ExecuteTime": {
     "end_time": "2017-09-27T19:49:06.050916Z",
     "start_time": "2017-09-27T19:48:52.785209Z"
    }
   },
   "outputs": [
    {
     "data": {
      "text/plain": [
       "<BedTool(/home/cmb-panasas2/skchoudh/genomes/escherichia_coli_bw25113/annotation/Escherichia_coli_bw25113.ASM75055v1.38.gffutils.tss_sites.bed)>"
      ]
     },
     "execution_count": 9,
     "metadata": {},
     "output_type": "execute_result"
    }
   ],
   "source": [
    "## TSS\n",
    "polyA_sites_bed = ''\n",
    "tss_sites_bed = ''\n",
    "for gene_id in get_gene_list(gene_dict):\n",
    "    tss_sites = []\n",
    "    polyA_sites = []\n",
    "    for transcript in db.children(gene_id, featuretype='transcript'):\n",
    "        start_t = copy.deepcopy(transcript)\n",
    "        stop_t = copy.deepcopy(transcript)\n",
    "        \n",
    "        start_t.stop = start_t.start + 1\n",
    "        \n",
    "        stop_t.start = stop_t.stop\n",
    "        \n",
    "        if transcript.strand == '-':\n",
    "            start_t, stop_t = stop_t, start_t\n",
    "        polyA_sites.append(start_t)\n",
    "        tss_sites.append(stop_t)\n",
    "    merged_polyA_sites = merge_regions(db, polyA_sites)\n",
    "    renamed_polyA_sites = rename_regions(merged_polyA_sites, gene_id)    \n",
    "    merged_tss_sites = merge_regions(db, tss_sites)\n",
    "    renamed_tss_sites = rename_regions(merged_tss_sites, gene_id)\n",
    "    polyA_sites_bed += create_bed(renamed_polyA_sites)    \n",
    "    tss_sites_bed += create_bed(renamed_tss_sites)\n",
    "\n",
    "polyA_sites_bedtool = pybedtools.BedTool(polyA_sites_bed, from_string=True)\n",
    "tss_sites_bedtool = pybedtools.BedTool(tss_sites_bed, from_string=True)\n",
    "polyA_sites_bedtool.remove_invalid().sort().saveas('{}.polyA_sites.bed'.format(prefix))\n",
    "tss_sites_bedtool.remove_invalid().sort().saveas('{}.tss_sites.bed'.format(prefix))"
   ]
  },
  {
   "cell_type": "code",
   "execution_count": 10,
   "metadata": {
    "ExecuteTime": {
     "end_time": "2017-09-28T02:34:38.302259Z",
     "start_time": "2017-09-28T02:34:36.214910Z"
    }
   },
   "outputs": [
    {
     "ename": "BEDToolsError",
     "evalue": "\nCommand was:\n\n\tbedtools merge -s -o distinct -i /tmp/26742042.hpc-pbs1.hpcc.usc.edu/pybedtools.LP6PqN.tmp -c 4\n\nError message was:\n\n*****ERROR: Unrecognized parameter: -o *****\n\n\n*****ERROR: Unrecognized parameter: distinct *****\n\n\n*****ERROR: Unrecognized parameter: -c *****\n\n\n*****ERROR: Unrecognized parameter: 4 *****\n\n\nTool:    bedtools merge (aka mergeBed)\nVersion: v2.17.0\nSummary: Merges overlapping BED/GFF/VCF entries into a single interval.\n\nUsage:   bedtools merge [OPTIONS] -i <bed/gff/vcf>\n\nOptions: \n\t-s\tForce strandedness.  That is, only merge features\n\t\tthat are the same strand.\n\t\t- By default, merging is done without respect to strand.\n\n\t-n\tReport the number of BED entries that were merged.\n\t\t- Note: \"1\" is reported if no merging occurred.\n\n\t-d\tMaximum distance between features allowed for features\n\t\tto be merged.\n\t\t- Def. 0. That is, overlapping & book-ended features are merged.\n\t\t- (INTEGER)\n\n\t-nms\tReport the names of the merged features separated by semicolons.\n\n\t-scores\tReport the scores of the merged features. Specify one of \n\t\tthe following options for reporting scores:\n\t\t  sum, min, max,\n\t\t  mean, median, mode, antimode,\n\t\t  collapse (i.e., print a semicolon-separated list),\n\t\t- (INTEGER)\n\nNotes: \n\t(1) All output, regardless of input type (e.g., GFF or VCF)\n\t    will in BED format with zero-based starts\n\n\t(2) The input file (-i) file must be sorted by chrom, then start.\n\n",
     "output_type": "error",
     "traceback": [
      "\u001b[0;31m\u001b[0m",
      "\u001b[0;31mBEDToolsError\u001b[0mTraceback (most recent call last)",
      "\u001b[0;32m<ipython-input-10-a57f336da5fd>\u001b[0m in \u001b[0;36m<module>\u001b[0;34m()\u001b[0m\n\u001b[0;32m----> 1\u001b[0;31m \u001b[0mtss\u001b[0m \u001b[0;34m=\u001b[0m \u001b[0mtsses\u001b[0m\u001b[0;34m(\u001b[0m\u001b[0mdb\u001b[0m\u001b[0;34m,\u001b[0m \u001b[0mas_bed6\u001b[0m\u001b[0;34m=\u001b[0m\u001b[0mTrue\u001b[0m\u001b[0;34m,\u001b[0m \u001b[0mmerge_overlapping\u001b[0m\u001b[0;34m=\u001b[0m\u001b[0mTrue\u001b[0m\u001b[0;34m)\u001b[0m\u001b[0;34m\u001b[0m\u001b[0m\n\u001b[0m\u001b[1;32m      2\u001b[0m \u001b[0mtss\u001b[0m\u001b[0;34m.\u001b[0m\u001b[0mremove_invalid\u001b[0m\u001b[0;34m(\u001b[0m\u001b[0;34m)\u001b[0m\u001b[0;34m.\u001b[0m\u001b[0msort\u001b[0m\u001b[0;34m(\u001b[0m\u001b[0;34m)\u001b[0m\u001b[0;34m.\u001b[0m\u001b[0msaveas\u001b[0m\u001b[0;34m(\u001b[0m\u001b[0;34m'{}.tss_temp.bed'\u001b[0m\u001b[0;34m.\u001b[0m\u001b[0mformat\u001b[0m\u001b[0;34m(\u001b[0m\u001b[0mprefix\u001b[0m\u001b[0;34m)\u001b[0m\u001b[0;34m)\u001b[0m\u001b[0;34m\u001b[0m\u001b[0m\n\u001b[1;32m      3\u001b[0m \u001b[0mpromoter\u001b[0m \u001b[0;34m=\u001b[0m \u001b[0mtss\u001b[0m\u001b[0;34m.\u001b[0m\u001b[0mslop\u001b[0m\u001b[0;34m(\u001b[0m\u001b[0ml\u001b[0m\u001b[0;34m=\u001b[0m\u001b[0;36m1000\u001b[0m\u001b[0;34m,\u001b[0m \u001b[0mr\u001b[0m\u001b[0;34m=\u001b[0m\u001b[0;36m1000\u001b[0m\u001b[0;34m,\u001b[0m \u001b[0ms\u001b[0m\u001b[0;34m=\u001b[0m\u001b[0mTrue\u001b[0m\u001b[0;34m,\u001b[0m \u001b[0mg\u001b[0m\u001b[0;34m=\u001b[0m\u001b[0mchrsizes\u001b[0m\u001b[0;34m)\u001b[0m\u001b[0;34m\u001b[0m\u001b[0m\n\u001b[1;32m      4\u001b[0m \u001b[0mpromoter\u001b[0m\u001b[0;34m.\u001b[0m\u001b[0mremove_invalid\u001b[0m\u001b[0;34m(\u001b[0m\u001b[0;34m)\u001b[0m\u001b[0;34m.\u001b[0m\u001b[0msort\u001b[0m\u001b[0;34m(\u001b[0m\u001b[0;34m)\u001b[0m\u001b[0;34m.\u001b[0m\u001b[0msaveas\u001b[0m\u001b[0;34m(\u001b[0m\u001b[0;34m'{}.promoter.1000.bed'\u001b[0m\u001b[0;34m.\u001b[0m\u001b[0mformat\u001b[0m\u001b[0;34m(\u001b[0m\u001b[0mprefix\u001b[0m\u001b[0;34m)\u001b[0m\u001b[0;34m)\u001b[0m\u001b[0;34m\u001b[0m\u001b[0m\n",
      "\u001b[0;32m/home/cmb-panasas2/skchoudh/software_frozen/anaconda27/lib/python2.7/site-packages/gffutils/pybedtools_integration.pyc\u001b[0m in \u001b[0;36mtsses\u001b[0;34m(db, merge_overlapping, attrs, attrs_sep, merge_kwargs, as_bed6)\u001b[0m\n\u001b[1;32m    207\u001b[0m                 f[3])\n\u001b[1;32m    208\u001b[0m \u001b[0;34m\u001b[0m\u001b[0m\n\u001b[0;32m--> 209\u001b[0;31m         \u001b[0mx\u001b[0m \u001b[0;34m=\u001b[0m \u001b[0mx\u001b[0m\u001b[0;34m.\u001b[0m\u001b[0mmerge\u001b[0m\u001b[0;34m(\u001b[0m\u001b[0;34m**\u001b[0m\u001b[0m_merge_kwargs\u001b[0m\u001b[0;34m)\u001b[0m\u001b[0;34m.\u001b[0m\u001b[0meach\u001b[0m\u001b[0;34m(\u001b[0m\u001b[0mfix_merge\u001b[0m\u001b[0;34m)\u001b[0m\u001b[0;34m.\u001b[0m\u001b[0msaveas\u001b[0m\u001b[0;34m(\u001b[0m\u001b[0;34m)\u001b[0m\u001b[0;34m\u001b[0m\u001b[0m\n\u001b[0m\u001b[1;32m    210\u001b[0m \u001b[0;34m\u001b[0m\u001b[0m\n\u001b[1;32m    211\u001b[0m \u001b[0;34m\u001b[0m\u001b[0m\n",
      "\u001b[0;32m/home/cmb-panasas2/skchoudh/software_frozen/anaconda27/lib/python2.7/site-packages/pybedtools/bedtool.pyc\u001b[0m in \u001b[0;36mdecorated\u001b[0;34m(self, *args, **kwargs)\u001b[0m\n\u001b[1;32m    804\u001b[0m             \u001b[0;31m# this calls the actual method in the first place; *result* is\u001b[0m\u001b[0;34m\u001b[0m\u001b[0;34m\u001b[0m\u001b[0m\n\u001b[1;32m    805\u001b[0m             \u001b[0;31m# whatever you get back\u001b[0m\u001b[0;34m\u001b[0m\u001b[0;34m\u001b[0m\u001b[0m\n\u001b[0;32m--> 806\u001b[0;31m             \u001b[0mresult\u001b[0m \u001b[0;34m=\u001b[0m \u001b[0mmethod\u001b[0m\u001b[0;34m(\u001b[0m\u001b[0mself\u001b[0m\u001b[0;34m,\u001b[0m \u001b[0;34m*\u001b[0m\u001b[0margs\u001b[0m\u001b[0;34m,\u001b[0m \u001b[0;34m**\u001b[0m\u001b[0mkwargs\u001b[0m\u001b[0;34m)\u001b[0m\u001b[0;34m\u001b[0m\u001b[0m\n\u001b[0m\u001b[1;32m    807\u001b[0m \u001b[0;34m\u001b[0m\u001b[0m\n\u001b[1;32m    808\u001b[0m             \u001b[0;31m# add appropriate tags\u001b[0m\u001b[0;34m\u001b[0m\u001b[0;34m\u001b[0m\u001b[0m\n",
      "\u001b[0;32m/home/cmb-panasas2/skchoudh/software_frozen/anaconda27/lib/python2.7/site-packages/pybedtools/bedtool.pyc\u001b[0m in \u001b[0;36mwrapped\u001b[0;34m(self, *args, **kwargs)\u001b[0m\n\u001b[1;32m    335\u001b[0m             stream = call_bedtools(cmds, tmp, stdin=stdin,\n\u001b[1;32m    336\u001b[0m                                    \u001b[0mcheck_stderr\u001b[0m\u001b[0;34m=\u001b[0m\u001b[0mcheck_stderr\u001b[0m\u001b[0;34m,\u001b[0m\u001b[0;34m\u001b[0m\u001b[0m\n\u001b[0;32m--> 337\u001b[0;31m                                    \u001b[0mdecode_output\u001b[0m\u001b[0;34m=\u001b[0m\u001b[0mdecode_output\u001b[0m\u001b[0;34m,\u001b[0m\u001b[0;34m\u001b[0m\u001b[0m\n\u001b[0m\u001b[1;32m    338\u001b[0m                                    )\n\u001b[1;32m    339\u001b[0m \u001b[0;34m\u001b[0m\u001b[0m\n",
      "\u001b[0;32m/home/cmb-panasas2/skchoudh/software_frozen/anaconda27/lib/python2.7/site-packages/pybedtools/helpers.pyc\u001b[0m in \u001b[0;36mcall_bedtools\u001b[0;34m(cmds, tmpfn, stdin, check_stderr, decode_output, encode_input)\u001b[0m\n\u001b[1;32m    354\u001b[0m                 \u001b[0msys\u001b[0m\u001b[0;34m.\u001b[0m\u001b[0mstderr\u001b[0m\u001b[0;34m.\u001b[0m\u001b[0mwrite\u001b[0m\u001b[0;34m(\u001b[0m\u001b[0mstderr\u001b[0m\u001b[0;34m)\u001b[0m\u001b[0;34m\u001b[0m\u001b[0m\n\u001b[1;32m    355\u001b[0m             \u001b[0;32melse\u001b[0m\u001b[0;34m:\u001b[0m\u001b[0;34m\u001b[0m\u001b[0m\n\u001b[0;32m--> 356\u001b[0;31m                 \u001b[0;32mraise\u001b[0m \u001b[0mBEDToolsError\u001b[0m\u001b[0;34m(\u001b[0m\u001b[0msubprocess\u001b[0m\u001b[0;34m.\u001b[0m\u001b[0mlist2cmdline\u001b[0m\u001b[0;34m(\u001b[0m\u001b[0mcmds\u001b[0m\u001b[0;34m)\u001b[0m\u001b[0;34m,\u001b[0m \u001b[0mstderr\u001b[0m\u001b[0;34m)\u001b[0m\u001b[0;34m\u001b[0m\u001b[0m\n\u001b[0m\u001b[1;32m    357\u001b[0m \u001b[0;34m\u001b[0m\u001b[0m\n\u001b[1;32m    358\u001b[0m \u001b[0;34m\u001b[0m\u001b[0m\n",
      "\u001b[0;31mBEDToolsError\u001b[0m: \nCommand was:\n\n\tbedtools merge -s -o distinct -i /tmp/26742042.hpc-pbs1.hpcc.usc.edu/pybedtools.LP6PqN.tmp -c 4\n\nError message was:\n\n*****ERROR: Unrecognized parameter: -o *****\n\n\n*****ERROR: Unrecognized parameter: distinct *****\n\n\n*****ERROR: Unrecognized parameter: -c *****\n\n\n*****ERROR: Unrecognized parameter: 4 *****\n\n\nTool:    bedtools merge (aka mergeBed)\nVersion: v2.17.0\nSummary: Merges overlapping BED/GFF/VCF entries into a single interval.\n\nUsage:   bedtools merge [OPTIONS] -i <bed/gff/vcf>\n\nOptions: \n\t-s\tForce strandedness.  That is, only merge features\n\t\tthat are the same strand.\n\t\t- By default, merging is done without respect to strand.\n\n\t-n\tReport the number of BED entries that were merged.\n\t\t- Note: \"1\" is reported if no merging occurred.\n\n\t-d\tMaximum distance between features allowed for features\n\t\tto be merged.\n\t\t- Def. 0. That is, overlapping & book-ended features are merged.\n\t\t- (INTEGER)\n\n\t-nms\tReport the names of the merged features separated by semicolons.\n\n\t-scores\tReport the scores of the merged features. Specify one of \n\t\tthe following options for reporting scores:\n\t\t  sum, min, max,\n\t\t  mean, median, mode, antimode,\n\t\t  collapse (i.e., print a semicolon-separated list),\n\t\t- (INTEGER)\n\nNotes: \n\t(1) All output, regardless of input type (e.g., GFF or VCF)\n\t    will in BED format with zero-based starts\n\n\t(2) The input file (-i) file must be sorted by chrom, then start.\n\n"
     ]
    }
   ],
   "source": [
    "tss = tsses(db, as_bed6=True, merge_overlapping=True)\n",
    "tss.remove_invalid().sort().saveas('{}.tss_temp.bed'.format(prefix))\n",
    "promoter = tss.slop(l=1000, r=1000, s=True, g=chrsizes)\n",
    "promoter.remove_invalid().sort().saveas('{}.promoter.1000.bed'.format(prefix))"
   ]
  },
  {
   "cell_type": "code",
   "execution_count": null,
   "metadata": {
    "ExecuteTime": {
     "end_time": "2017-09-28T02:34:39.211657Z",
     "start_time": "2017-09-28T02:34:38.305055Z"
    },
    "collapsed": true
   },
   "outputs": [],
   "source": [
    "for l in [1000, 2000, 3000, 4000, 5000]:\n",
    "    promoter = tss.slop(l=l, r=l, s=True, g=chrsizes)\n",
    "    promoter.remove_invalid().sort().saveas('{}.promoter.{}.bed'.format(prefix, l))"
   ]
  },
  {
   "cell_type": "code",
   "execution_count": null,
   "metadata": {
    "collapsed": true
   },
   "outputs": [],
   "source": []
  }
 ],
 "metadata": {
  "hide_input": false,
  "kernelspec": {
   "display_name": "Python [default]",
   "language": "python",
   "name": "python2"
  },
  "language_info": {
   "codemirror_mode": {
    "name": "ipython",
    "version": 2
   },
   "file_extension": ".py",
   "mimetype": "text/x-python",
   "name": "python",
   "nbconvert_exporter": "python",
   "pygments_lexer": "ipython2",
   "version": "2.7.14"
  },
  "latex_envs": {
   "LaTeX_envs_menu_present": true,
   "autocomplete": true,
   "bibliofile": "biblio.bib",
   "cite_by": "apalike",
   "current_citInitial": 1,
   "eqLabelWithNumbers": true,
   "eqNumInitial": 1,
   "hotkeys": {
    "equation": "Ctrl-E",
    "itemize": "Ctrl-I"
   },
   "labels_anchors": false,
   "latex_user_defs": false,
   "report_style_numbering": false,
   "user_envs_cfg": false
  },
  "toc": {
   "nav_menu": {
    "height": "12px",
    "width": "252px"
   },
   "number_sections": true,
   "sideBar": true,
   "skip_h1_title": false,
   "toc_cell": false,
   "toc_position": {},
   "toc_section_display": "block",
   "toc_window_display": true
  }
 },
 "nbformat": 4,
 "nbformat_minor": 2
}
