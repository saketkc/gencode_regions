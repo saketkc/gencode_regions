{
 "cells": [
  {
   "cell_type": "markdown",
   "metadata": {
    "toc": "true"
   },
   "source": [
    "<h1>Table of Contents<span class=\"tocSkip\"></span></h1>\n",
    "<div class=\"toc\"><ul class=\"toc-item\"><li><span><a href=\"#TSS\" data-toc-modified-id=\"TSS-1\"><span class=\"toc-item-num\">1&nbsp;&nbsp;</span>TSS</a></span></li></ul></div>"
   ]
  },
  {
   "cell_type": "code",
   "execution_count": 1,
   "metadata": {
    "ExecuteTime": {
     "end_time": "2018-03-04T22:22:43.524461Z",
     "start_time": "2018-03-04T22:22:41.733922Z"
    }
   },
   "outputs": [],
   "source": [
    "from collections import defaultdict\n",
    "import warnings\n",
    "import logging\n",
    "import gffutils\n",
    "import pybedtools\n",
    "import pandas as pd\n",
    "import copy\n",
    "import re\n",
    "from gffutils.pybedtools_integration import tsses\n",
    "\n",
    "logging.basicConfig(level=logging.INFO)"
   ]
  },
  {
   "cell_type": "code",
   "execution_count": 2,
   "metadata": {
    "ExecuteTime": {
     "end_time": "2018-03-04T22:22:43.538071Z",
     "start_time": "2018-03-04T22:22:43.530567Z"
    }
   },
   "outputs": [],
   "source": [
    "gencode_gtf = '/home/cmb-panasas2/skchoudh/genomes/C_albicans_SC5314/Assembly22/annotation/C_albicans_SC5314_version_A22-s07-m01-r50_features.encode.gtf'\n",
    "gencode_gtf_db = '/home/cmb-panasas2/skchoudh/genomes/C_albicans_SC5314/Assembly22/annotation/C_albicans_SC5314_version_A22-s07-m01-r50_features.encode.gtf.db'\n",
    "prefix = '/home/cmb-panasas2/skchoudh/genomes/C_albicans_SC5314/Assembly22/annotation/C_albicans_SC5314_version_A22-s07-m01-r50_features.encode.gffutils'\n",
    "chrsizes = '/home/cmb-panasas2/skchoudh/genomes/C_albicans_SC5314/Assembly22/fasta_v50/C_albicans_SC5314_version_A22-s07-m01-r50_chromosomes_clean_records.sizes'\n"
   ]
  },
  {
   "cell_type": "code",
   "execution_count": 3,
   "metadata": {
    "ExecuteTime": {
     "end_time": "2018-03-04T22:22:43.562938Z",
     "start_time": "2018-03-04T22:22:43.543727Z"
    }
   },
   "outputs": [],
   "source": [
    "def create_gene_dict(db):\n",
    "    '''\n",
    "    Store each feature line db.all_features() as a dict of dicts\n",
    "    '''\n",
    "    gene_dict = defaultdict(lambda: defaultdict(lambda: defaultdict(list)))\n",
    "    for line_no, feature in enumerate(db.all_features()):\n",
    "        gene_ids = feature.attributes['gene_id']\n",
    "        feature_type = feature.featuretype\n",
    "        if feature_type == 'gene':\n",
    "            if len(gene_ids)!=1:\n",
    "                logging.warning('Found multiple gene_ids on line {} in gtf'.format(line_no))\n",
    "                break\n",
    "            else:\n",
    "                gene_id = gene_ids[0]\n",
    "                gene_dict[gene_id]['gene'] = feature\n",
    "        else:\n",
    "            transcript_ids = feature.attributes['transcript_id']\n",
    "\n",
    "            for gene_id in gene_ids:\n",
    "                for transcript_id in transcript_ids:\n",
    "                    gene_dict[gene_id][transcript_id][feature_type].append(feature)\n",
    "    return gene_dict\n"
   ]
  },
  {
   "cell_type": "code",
   "execution_count": 4,
   "metadata": {
    "ExecuteTime": {
     "end_time": "2018-03-04T22:26:19.177444Z",
     "start_time": "2018-03-04T22:22:43.568822Z"
    }
   },
   "outputs": [
    {
     "name": "stderr",
     "output_type": "stream",
     "text": [
      "/home/cmb-panasas2/skchoudh/software_frozen/anaconda27/lib/python2.7/site-packages/gffutils/create.py:730: UserWarning: It appears you have a gene feature in your GTF file. You may want to use the `disable_infer_genes` option to speed up database creation\n",
      "  \"It appears you have a gene feature in your GTF \"\n"
     ]
    }
   ],
   "source": [
    "db = gffutils.create_db(gencode_gtf, dbfn=gencode_gtf_db, keep_order=True,\n",
    "                        merge_strategy='merge', force=True)\n",
    "\n",
    "db = gffutils.FeatureDB(gencode_gtf_db)\n",
    "gene_dict = create_gene_dict(db)\n"
   ]
  },
  {
   "cell_type": "code",
   "execution_count": 5,
   "metadata": {
    "ExecuteTime": {
     "end_time": "2018-03-04T22:26:19.285764Z",
     "start_time": "2018-03-04T22:26:19.183251Z"
    }
   },
   "outputs": [],
   "source": [
    "def get_gene_list(gene_dict):\n",
    "    return list(set(gene_dict.keys()))\n",
    "\n",
    "def get_UTR_regions(gene_dict, gene_id, transcript, cds):\n",
    "    if len(cds)==0:\n",
    "        return [], []\n",
    "    utr5_regions = []\n",
    "    utr3_regions = []\n",
    "    utrs = gene_dict[gene_id][transcript]['UTR']\n",
    "    first_cds = cds[0]\n",
    "    last_cds = cds[-1]\n",
    "    for utr in utrs:\n",
    "        ## Push all cds at once\n",
    "        ## Sort later to remove duplicates\n",
    "        strand = utr.strand\n",
    "        if strand == '+':\n",
    "            if utr.stop < first_cds.start:\n",
    "                utr.feature_type = 'five_prime_UTR'\n",
    "                utr5_regions.append(utr)\n",
    "            elif utr.start > last_cds.stop:\n",
    "                utr.feature_type = 'three_prime_UTR'\n",
    "                utr3_regions.append(utr)\n",
    "            else:\n",
    "                #raise RuntimeError('Error with cds: {}\\t {} \\t {}'.format(utr, last_cds, first_cds))\n",
    "                print('Error with cds: {}\\t {} \\t {}'.format(utr, last_cds, first_cds))\n",
    "        elif strand == '-':\n",
    "            if utr.stop < first_cds.start:\n",
    "                utr.feature_type = 'three_prime_UTR'\n",
    "                utr3_regions.append(utr)\n",
    "            elif utr.start > last_cds.stop:\n",
    "                utr.feature_type = 'five_prime_UTR'\n",
    "                utr5_regions.append(utr)                \n",
    "            else:\n",
    "                #raise RuntimeError('Error with cds')    \n",
    "                print('Error with cds: {}\\t {} \\t {}'.format(utr, last_cds, first_cds))\n",
    "    return utr5_regions, utr3_regions\n",
    "    \n",
    "def create_bed(regions, bedtype='0'):\n",
    "    '''Create bed from list of regions\n",
    "    bedtype: 0 or 1\n",
    "        0-Based or 1-based coordinate of the BED\n",
    "    '''\n",
    "    bedstr = ''\n",
    "    for region in regions:\n",
    "        assert len(region.attributes['gene_id']) == 1\n",
    "        ## GTF start is 1-based, so shift by one while writing \n",
    "        ## to 0-based BED format\n",
    "        if bedtype == '0':\n",
    "            start = region.start - 1\n",
    "        else:\n",
    "            start = region.start\n",
    "        bedstr += '{}\\t{}\\t{}\\t{}\\t{}\\t{}\\n'.format(region.chrom,\n",
    "                                             start,\n",
    "                                             region.stop,\n",
    "                                             re.sub('\\.\\d+', '', region.attributes['gene_id'][0]),\n",
    "                                             '.',\n",
    "                                             region.strand)\n",
    "    return bedstr\n",
    "\n",
    "def rename_regions(regions, gene_id):\n",
    "    regions = list(regions)\n",
    "    if len(regions) == 0:\n",
    "        return []\n",
    "    for region in regions:\n",
    "        region.attributes['gene_id'] = gene_id\n",
    "    return regions\n",
    "\n",
    "def merge_regions(db, regions):\n",
    "    if len(regions) == 0:\n",
    "        return []\n",
    "    merged = db.merge(sorted(list(regions), key=lambda x: x.start))\n",
    "    return merged\n",
    "\n",
    "def merge_regions_nostrand(db, regions):\n",
    "    if len(regions) == 0:\n",
    "        return []\n",
    "    merged = db.merge(sorted(list(regions), key=lambda x: x.start), ignore_strand=True)\n",
    "    return merged"
   ]
  },
  {
   "cell_type": "code",
   "execution_count": 6,
   "metadata": {
    "ExecuteTime": {
     "end_time": "2018-03-04T22:26:25.859264Z",
     "start_time": "2018-03-04T22:26:19.291608Z"
    }
   },
   "outputs": [
    {
     "name": "stdout",
     "output_type": "stream",
     "text": [
      "Error with cds: Ca22chr6B_C_albicans_SC5314\tCGD\tUTR\t356825\t356899\t.\t+\t1\tgene_status \"NOVEL\"; level \"1\"; transcript_name \"C6_01700W_B-T\"; transcript_status \"NOVEL\"; gene_id \"C6_01700W_B\"; exon_id \"C6_01700W_B-T\"; exon_number \"1\"; ccdsid \"CAL0000192067\"; transcript_id \"C6_01700W_B-T\"; gene_type \"protein_coding\"; transcript_type \"protein_coding\"; gene_name \"ACC1\";\t Ca22chr6B_C_albicans_SC5314\tCGD\tCDS\t357342\t357733\t.\t+\t1\tgene_status \"NOVEL\"; level \"1\"; transcript_name \"C6_01700W_B-T\"; transcript_status \"NOVEL\"; gene_id \"C6_01700W_B\"; exon_id \"C6_01700W_B-T\"; exon_number \"2\"; ccdsid \"CAL0000192067\"; transcript_id \"C6_01700W_B-T\"; gene_type \"protein_coding\"; transcript_type \"protein_coding\"; gene_name \"ACC1\"; \t Ca22chr6B_C_albicans_SC5314\tCGD\tCDS\t356899\t356899\t.\t+\t1\tgene_status \"NOVEL\"; level \"1\"; transcript_name \"C6_01700W_B-T\"; transcript_status \"NOVEL\"; gene_id \"C6_01700W_B\"; exon_id \"C6_01700W_B-T\"; exon_number \"1\"; ccdsid \"CAL0000192067\"; transcript_id \"C6_01700W_B-T\"; gene_type \"protein_coding\"; transcript_type \"protein_coding\"; gene_name \"ACC1\";\n",
      "Error with cds: Ca22chr6A_C_albicans_SC5314\tCGD\tUTR\t356871\t356945\t.\t+\t1\tgene_status \"KNOWN\"; exon_number \"1\"; level \"1\"; transcript_status \"KNOWN\"; gene_id \"C6_01700W_A\"; exon_id \"C6_01700W_A-T\"; transcript_type \"protein_coding\"; transcript_name \"C6_01700W_A-T\"; ccdsid \"CAL0000179592\"; transcript_id \"C6_01700W_A-T\"; gene_type \"protein_coding\"; protein_id \"orf19.3415\"; gene_name \"ACC1\";\t Ca22chr6A_C_albicans_SC5314\tCGD\tCDS\t357388\t357779\t.\t+\t1\tgene_status \"KNOWN\"; exon_number \"2\"; level \"1\"; transcript_status \"KNOWN\"; gene_id \"C6_01700W_A\"; exon_id \"C6_01700W_A-T\"; transcript_type \"protein_coding\"; transcript_name \"C6_01700W_A-T\"; ccdsid \"CAL0000179592\"; transcript_id \"C6_01700W_A-T\"; gene_type \"protein_coding\"; protein_id \"orf19.3415\"; gene_name \"ACC1\"; \t Ca22chr6A_C_albicans_SC5314\tCGD\tCDS\t356945\t356945\t.\t+\t1\tgene_status \"KNOWN\"; exon_number \"1\"; level \"1\"; transcript_status \"KNOWN\"; gene_id \"C6_01700W_A\"; exon_id \"C6_01700W_A-T\"; transcript_type \"protein_coding\"; transcript_name \"C6_01700W_A-T\"; ccdsid \"CAL0000179592\"; transcript_id \"C6_01700W_A-T\"; gene_type \"protein_coding\"; protein_id \"orf19.3415\"; gene_name \"ACC1\";\n",
      "Error with cds: Ca22chr1A_C_albicans_SC5314\tCGD\tUTR\t888024\t888186\t.\t-\t1\tgene_status \"KNOWN\"; exon_number \"1\"; level \"1\"; transcript_status \"KNOWN\"; gene_id \"C1_04290C_A\"; exon_id \"C1_04290C_A-T\"; transcript_type \"protein_coding\"; transcript_name \"C1_04290C_A-T\"; ccdsid \"CAL0000197968\"; transcript_id \"C1_04290C_A-T\"; gene_type \"protein_coding\"; protein_id \"orf19.1064,orf19.8666\"; gene_name \"C1_14550C_A\";\t Ca22chr1A_C_albicans_SC5314\tCGD\tCDS\t889117\t889117\t.\t-\t1\tgene_status \"KNOWN\"; exon_number \"2\"; level \"1\"; transcript_status \"KNOWN\"; gene_id \"C1_04290C_A\"; exon_id \"C1_04290C_A-T\"; transcript_type \"protein_coding\"; transcript_name \"C1_04290C_A-T\"; ccdsid \"CAL0000197968\"; transcript_id \"C1_04290C_A-T\"; gene_type \"protein_coding\"; protein_id \"orf19.1064,orf19.8666\"; gene_name \"C1_14550C_A\"; \t Ca22chr1A_C_albicans_SC5314\tCGD\tCDS\t886013\t888039\t.\t-\t1\tgene_status \"KNOWN\"; exon_number \"1\"; level \"1\"; transcript_status \"KNOWN\"; gene_id \"C1_04290C_A\"; exon_id \"C1_04290C_A-T\"; transcript_type \"protein_coding\"; transcript_name \"C1_04290C_A-T\"; ccdsid \"CAL0000197968\"; transcript_id \"C1_04290C_A-T\"; gene_type \"protein_coding\"; protein_id \"orf19.1064,orf19.8666\"; gene_name \"C1_14550C_A\";\n",
      "Error with cds: Ca22chr1B_C_albicans_SC5314\tCGD\tUTR\t888063\t888226\t.\t-\t1\tgene_status \"NOVEL\"; level \"1\"; transcript_name \"C1_04290C_B-T\"; transcript_status \"NOVEL\"; gene_id \"C1_04290C_B\"; exon_id \"C1_04290C_B-T\"; exon_number \"1\"; ccdsid \"CAL0000189728\"; transcript_id \"C1_04290C_B-T\"; gene_type \"protein_coding\"; transcript_type \"protein_coding\"; gene_name \"C4_03050C_B\";\t Ca22chr1B_C_albicans_SC5314\tCGD\tCDS\t889157\t889157\t.\t-\t1\tgene_status \"NOVEL\"; level \"1\"; transcript_name \"C1_04290C_B-T\"; transcript_status \"NOVEL\"; gene_id \"C1_04290C_B\"; exon_id \"C1_04290C_B-T\"; exon_number \"2\"; ccdsid \"CAL0000189728\"; transcript_id \"C1_04290C_B-T\"; gene_type \"protein_coding\"; transcript_type \"protein_coding\"; gene_name \"C4_03050C_B\"; \t Ca22chr1B_C_albicans_SC5314\tCGD\tCDS\t886052\t888078\t.\t-\t1\tgene_status \"NOVEL\"; level \"1\"; transcript_name \"C1_04290C_B-T\"; transcript_status \"NOVEL\"; gene_id \"C1_04290C_B\"; exon_id \"C1_04290C_B-T\"; exon_number \"1\"; ccdsid \"CAL0000189728\"; transcript_id \"C1_04290C_B-T\"; gene_type \"protein_coding\"; transcript_type \"protein_coding\"; gene_name \"C4_03050C_B\";\n",
      "Error with cds: Ca22chr3A_C_albicans_SC5314\tCGD\tUTR\t214757\t214758\t.\t-\t1\tgene_status \"NOVEL\"; exon_number \"2\"; level \"1\"; transcript_status \"NOVEL\"; gene_id \"C3_01040C_A\"; exon_id \"C3_01040C_A-T\"; transcript_type \"protein_coding\"; transcript_name \"C3_01040C_A-T\"; ccdsid \"CAL0000184047\"; transcript_id \"C3_01040C_A-T\"; gene_type \"protein_coding\"; protein_id \"orf19.2508,orf19.10044\"; gene_name \"C3_07550C_B\";\t Ca22chr3A_C_albicans_SC5314\tCGD\tCDS\t214829\t215352\t.\t-\t1\tgene_status \"NOVEL\"; exon_number \"2\"; level \"1\"; transcript_status \"NOVEL\"; gene_id \"C3_01040C_A\"; exon_id \"C3_01040C_A-T\"; transcript_type \"protein_coding\"; transcript_name \"C3_01040C_A-T\"; ccdsid \"CAL0000184047\"; transcript_id \"C3_01040C_A-T\"; gene_type \"protein_coding\"; protein_id \"orf19.2508,orf19.10044\"; gene_name \"C3_07550C_B\"; \t Ca22chr3A_C_albicans_SC5314\tCGD\tCDS\t213601\t214756\t.\t-\t1\tgene_status \"NOVEL\"; exon_number \"1\"; level \"1\"; transcript_status \"NOVEL\"; gene_id \"C3_01040C_A\"; exon_id \"C3_01040C_A-T\"; transcript_type \"protein_coding\"; transcript_name \"C3_01040C_A-T\"; ccdsid \"CAL0000184047\"; transcript_id \"C3_01040C_A-T\"; gene_type \"protein_coding\"; protein_id \"orf19.2508,orf19.10044\"; gene_name \"C3_07550C_B\";\n",
      "Error with cds: Ca22chr1A_C_albicans_SC5314\tCGD\tUTR\t917169\t917311\t.\t-\t1\tgene_status \"NOVEL\"; exon_number \"2\"; level \"1\"; transcript_status \"NOVEL\"; gene_id \"C1_04430C_A\"; exon_id \"C1_04430C_A-T\"; transcript_type \"protein_coding\"; transcript_name \"C1_04430C_A-T\"; ccdsid \"CAL0000178260\"; transcript_id \"C1_04430C_A-T\"; gene_type \"protein_coding\"; protein_id \"orf19.5194\"; gene_name \"END3\";\t Ca22chr1A_C_albicans_SC5314\tCGD\tCDS\t917227\t917263\t.\t-\t1\tgene_status \"NOVEL\"; exon_number \"2\"; level \"1\"; transcript_status \"NOVEL\"; gene_id \"C1_04430C_A\"; exon_id \"C1_04430C_A-T\"; transcript_type \"protein_coding\"; transcript_name \"C1_04430C_A-T\"; ccdsid \"CAL0000178260\"; transcript_id \"C1_04430C_A-T\"; gene_type \"protein_coding\"; protein_id \"orf19.5194\"; gene_name \"END3\"; \t Ca22chr1A_C_albicans_SC5314\tCGD\tCDS\t916440\t917161\t.\t-\t1\tgene_status \"NOVEL\"; exon_number \"1\"; level \"1\"; transcript_status \"NOVEL\"; gene_id \"C1_04430C_A\"; exon_id \"C1_04430C_A-T\"; transcript_type \"protein_coding\"; transcript_name \"C1_04430C_A-T\"; ccdsid \"CAL0000178260\"; transcript_id \"C1_04430C_A-T\"; gene_type \"protein_coding\"; protein_id \"orf19.5194\"; gene_name \"END3\";\n",
      "Error with cds: Ca22chr1A_C_albicans_SC5314\tCGD\tUTR\t917262\t917263\t.\t-\t1\tgene_status \"NOVEL\"; exon_number \"1\"; level \"1\"; transcript_status \"NOVEL\"; gene_id \"C1_04430C_A\"; exon_id \"C1_04430C_A-T\"; transcript_type \"protein_coding\"; transcript_name \"C1_04430C_A-T\"; ccdsid \"CAL0000178260\"; transcript_id \"C1_04430C_A-T\"; gene_type \"protein_coding\"; protein_id \"orf19.5194\"; gene_name \"END3\";\t Ca22chr1A_C_albicans_SC5314\tCGD\tCDS\t917227\t917263\t.\t-\t1\tgene_status \"NOVEL\"; exon_number \"2\"; level \"1\"; transcript_status \"NOVEL\"; gene_id \"C1_04430C_A\"; exon_id \"C1_04430C_A-T\"; transcript_type \"protein_coding\"; transcript_name \"C1_04430C_A-T\"; ccdsid \"CAL0000178260\"; transcript_id \"C1_04430C_A-T\"; gene_type \"protein_coding\"; protein_id \"orf19.5194\"; gene_name \"END3\"; \t Ca22chr1A_C_albicans_SC5314\tCGD\tCDS\t916440\t917161\t.\t-\t1\tgene_status \"NOVEL\"; exon_number \"1\"; level \"1\"; transcript_status \"NOVEL\"; gene_id \"C1_04430C_A\"; exon_id \"C1_04430C_A-T\"; transcript_type \"protein_coding\"; transcript_name \"C1_04430C_A-T\"; ccdsid \"CAL0000178260\"; transcript_id \"C1_04430C_A-T\"; gene_type \"protein_coding\"; protein_id \"orf19.5194\"; gene_name \"END3\";\n",
      "Error with cds: Ca22chr1B_C_albicans_SC5314\tCGD\tUTR\t917204\t917346\t.\t-\t1\tgene_status \"NOVEL\"; level \"1\"; transcript_name \"C1_04430C_B-T\"; transcript_status \"NOVEL\"; gene_id \"C1_04430C_B\"; exon_id \"C1_04430C_B-T\"; exon_number \"2\"; ccdsid \"CAL0000197740\"; transcript_id \"C1_04430C_B-T\"; gene_type \"protein_coding\"; transcript_type \"protein_coding\"; gene_name \"C1_04430C_A\";\t Ca22chr1B_C_albicans_SC5314\tCGD\tCDS\t917262\t917298\t.\t-\t1\tgene_status \"NOVEL\"; level \"1\"; transcript_name \"C1_04430C_B-T\"; transcript_status \"NOVEL\"; gene_id \"C1_04430C_B\"; exon_id \"C1_04430C_B-T\"; exon_number \"2\"; ccdsid \"CAL0000197740\"; transcript_id \"C1_04430C_B-T\"; gene_type \"protein_coding\"; transcript_type \"protein_coding\"; gene_name \"C1_04430C_A\"; \t Ca22chr1B_C_albicans_SC5314\tCGD\tCDS\t916475\t917196\t.\t-\t1\tgene_status \"NOVEL\"; level \"1\"; transcript_name \"C1_04430C_B-T\"; transcript_status \"NOVEL\"; gene_id \"C1_04430C_B\"; exon_id \"C1_04430C_B-T\"; exon_number \"1\"; ccdsid \"CAL0000197740\"; transcript_id \"C1_04430C_B-T\"; gene_type \"protein_coding\"; transcript_type \"protein_coding\"; gene_name \"C1_04430C_A\";\n",
      "Error with cds: Ca22chr1B_C_albicans_SC5314\tCGD\tUTR\t917297\t917298\t.\t-\t1\tgene_status \"NOVEL\"; level \"1\"; transcript_name \"C1_04430C_B-T\"; transcript_status \"NOVEL\"; gene_id \"C1_04430C_B\"; exon_id \"C1_04430C_B-T\"; exon_number \"1\"; ccdsid \"CAL0000197740\"; transcript_id \"C1_04430C_B-T\"; gene_type \"protein_coding\"; transcript_type \"protein_coding\"; gene_name \"C1_04430C_A\";\t Ca22chr1B_C_albicans_SC5314\tCGD\tCDS\t917262\t917298\t.\t-\t1\tgene_status \"NOVEL\"; level \"1\"; transcript_name \"C1_04430C_B-T\"; transcript_status \"NOVEL\"; gene_id \"C1_04430C_B\"; exon_id \"C1_04430C_B-T\"; exon_number \"2\"; ccdsid \"CAL0000197740\"; transcript_id \"C1_04430C_B-T\"; gene_type \"protein_coding\"; transcript_type \"protein_coding\"; gene_name \"C1_04430C_A\"; \t Ca22chr1B_C_albicans_SC5314\tCGD\tCDS\t916475\t917196\t.\t-\t1\tgene_status \"NOVEL\"; level \"1\"; transcript_name \"C1_04430C_B-T\"; transcript_status \"NOVEL\"; gene_id \"C1_04430C_B\"; exon_id \"C1_04430C_B-T\"; exon_number \"1\"; ccdsid \"CAL0000197740\"; transcript_id \"C1_04430C_B-T\"; gene_type \"protein_coding\"; transcript_type \"protein_coding\"; gene_name \"C1_04430C_A\";\n",
      "Error with cds: Ca22chrRA_C_albicans_SC5314\tCGD\tUTR\t1809336\t1809367\t.\t-\t1\tgene_status \"KNOWN\"; exon_number \"1\"; level \"1\"; transcript_status \"KNOWN\"; gene_id \"CR_08360C_A\"; exon_id \"CR_08360C_A-T\"; transcript_type \"protein_coding\"; transcript_name \"CR_08360C_A-T\"; ccdsid \"CAL0000175968\"; transcript_id \"CR_08360C_A-T\"; gene_type \"protein_coding\"; protein_id \"orf19.6403\"; gene_name \"RPF2\";\t Ca22chrRA_C_albicans_SC5314\tCGD\tCDS\t1809337\t1809337\t.\t-\t1\tgene_status \"KNOWN\"; exon_number \"2\"; level \"1\"; transcript_status \"KNOWN\"; gene_id \"CR_08360C_A\"; exon_id \"CR_08360C_A-T\"; transcript_type \"protein_coding\"; transcript_name \"CR_08360C_A-T\"; ccdsid \"CAL0000175968\"; transcript_id \"CR_08360C_A-T\"; gene_type \"protein_coding\"; protein_id \"orf19.6403\"; gene_name \"RPF2\"; \t Ca22chrRA_C_albicans_SC5314\tCGD\tCDS\t1808669\t1808991\t.\t-\t1\tgene_status \"KNOWN\"; exon_number \"1\"; level \"1\"; transcript_status \"KNOWN\"; gene_id \"CR_08360C_A\"; exon_id \"CR_08360C_A-T\"; transcript_type \"protein_coding\"; transcript_name \"CR_08360C_A-T\"; ccdsid \"CAL0000175968\"; transcript_id \"CR_08360C_A-T\"; gene_type \"protein_coding\"; protein_id \"orf19.6403\"; gene_name \"RPF2\";\n",
      "Error with cds: Ca22chrRB_C_albicans_SC5314\tCGD\tUTR\t1808798\t1808829\t.\t-\t1\tgene_status \"NOVEL\"; level \"1\"; transcript_name \"CR_08360C_B-T\"; transcript_status \"NOVEL\"; gene_id \"CR_08360C_B\"; exon_id \"CR_08360C_B-T\"; exon_number \"1\"; ccdsid \"CAL0000195616\"; transcript_id \"CR_08360C_B-T\"; gene_type \"protein_coding\"; transcript_type \"protein_coding\"; gene_name \"CR_09040W_B\";\t Ca22chrRB_C_albicans_SC5314\tCGD\tCDS\t1808799\t1808799\t.\t-\t1\tgene_status \"NOVEL\"; level \"1\"; transcript_name \"CR_08360C_B-T\"; transcript_status \"NOVEL\"; gene_id \"CR_08360C_B\"; exon_id \"CR_08360C_B-T\"; exon_number \"2\"; ccdsid \"CAL0000195616\"; transcript_id \"CR_08360C_B-T\"; gene_type \"protein_coding\"; transcript_type \"protein_coding\"; gene_name \"CR_09040W_B\"; \t Ca22chrRB_C_albicans_SC5314\tCGD\tCDS\t1808131\t1808453\t.\t-\t1\tgene_status \"NOVEL\"; level \"1\"; transcript_name \"CR_08360C_B-T\"; transcript_status \"NOVEL\"; gene_id \"CR_08360C_B\"; exon_id \"CR_08360C_B-T\"; exon_number \"1\"; ccdsid \"CAL0000195616\"; transcript_id \"CR_08360C_B-T\"; gene_type \"protein_coding\"; transcript_type \"protein_coding\"; gene_name \"CR_09040W_B\";\n",
      "Error with cds: Ca22chrRA_C_albicans_SC5314\tCGD\tUTR\t743076\t743077\t.\t-\t1\tgene_status \"NOVEL\"; exon_number \"2\"; level \"1\"; transcript_status \"NOVEL\"; gene_id \"CR_03310C_A\"; exon_id \"CR_03310C_A-T\"; transcript_type \"protein_coding\"; transcript_name \"CR_03310C_A-T\"; ccdsid \"CAL0000182324\"; transcript_id \"CR_03310C_A-T\"; gene_type \"protein_coding\"; protein_id \"orf19.2393,orf19.9929\"; gene_name \"SAP6\";\t Ca22chrRA_C_albicans_SC5314\tCGD\tCDS\t743039\t743076\t.\t-\t1\tgene_status \"NOVEL\"; exon_number \"2\"; level \"1\"; transcript_status \"NOVEL\"; gene_id \"CR_03310C_A\"; exon_id \"CR_03310C_A-T\"; transcript_type \"protein_coding\"; transcript_name \"CR_03310C_A-T\"; ccdsid \"CAL0000182324\"; transcript_id \"CR_03310C_A-T\"; gene_type \"protein_coding\"; protein_id \"orf19.2393,orf19.9929\"; gene_name \"SAP6\"; \t Ca22chrRA_C_albicans_SC5314\tCGD\tCDS\t742233\t742936\t.\t-\t1\tgene_status \"NOVEL\"; exon_number \"1\"; level \"1\"; transcript_status \"NOVEL\"; gene_id \"CR_03310C_A\"; exon_id \"CR_03310C_A-T\"; transcript_type \"protein_coding\"; transcript_name \"CR_03310C_A-T\"; ccdsid \"CAL0000182324\"; transcript_id \"CR_03310C_A-T\"; gene_type \"protein_coding\"; protein_id \"orf19.2393,orf19.9929\"; gene_name \"SAP6\";\n",
      "Error with cds: Ca22chr3A_C_albicans_SC5314\tCGD\tUTR\t596445\t597173\t.\t-\t1\tgene_status \"NOVEL\"; level \"1\"; transcript_name \"C5_02650C_B-T\"; transcript_status \"NOVEL\"; gene_id \"C5_02650C_B\"; exon_id \"C5_02650C_B-T\"; exon_number \"1\"; ccdsid \"CAL0000195171\"; transcript_id \"C5_02650C_B-T\"; gene_type \"protein_coding\"; transcript_type \"protein_coding\"; gene_name \"PGA44\";\t Ca22chr3A_C_albicans_SC5314\tCGD\tCDS\t595555\t598209\t.\t-\t1\tgene_status \"NOVEL\"; level \"1\"; transcript_name \"C5_02650C_B-T\"; transcript_status \"NOVEL\"; gene_id \"C5_02650C_B\"; exon_id \"C5_02650C_B-T\"; exon_number \"1\"; ccdsid \"CAL0000195171\"; transcript_id \"C5_02650C_B-T\"; gene_type \"protein_coding\"; transcript_type \"protein_coding\"; gene_name \"PGA44\"; \t Ca22chr3A_C_albicans_SC5314\tCGD\tCDS\t595555\t598209\t.\t-\t1\tgene_status \"NOVEL\"; level \"1\"; transcript_name \"C5_02650C_B-T\"; transcript_status \"NOVEL\"; gene_id \"C5_02650C_B\"; exon_id \"C5_02650C_B-T\"; exon_number \"1\"; ccdsid \"CAL0000195171\"; transcript_id \"C5_02650C_B-T\"; gene_type \"protein_coding\"; transcript_type \"protein_coding\"; gene_name \"PGA44\";\n",
      "Error with cds: Ca22chr3A_C_albicans_SC5314\tCGD\tUTR\t596444\t597127\t.\t-\t1\tgene_status \"NOVEL\"; level \"1\"; transcript_name \"C5_02650C_B-T\"; transcript_status \"NOVEL\"; gene_id \"C5_02650C_B\"; exon_id \"C5_02650C_B-T\"; exon_number \"1\"; ccdsid \"CAL0000195171\"; transcript_id \"C5_02650C_B-T\"; gene_type \"protein_coding\"; transcript_type \"protein_coding\"; gene_name \"PGA44\";\t Ca22chr3A_C_albicans_SC5314\tCGD\tCDS\t595555\t598209\t.\t-\t1\tgene_status \"NOVEL\"; level \"1\"; transcript_name \"C5_02650C_B-T\"; transcript_status \"NOVEL\"; gene_id \"C5_02650C_B\"; exon_id \"C5_02650C_B-T\"; exon_number \"1\"; ccdsid \"CAL0000195171\"; transcript_id \"C5_02650C_B-T\"; gene_type \"protein_coding\"; transcript_type \"protein_coding\"; gene_name \"PGA44\"; \t Ca22chr3A_C_albicans_SC5314\tCGD\tCDS\t595555\t598209\t.\t-\t1\tgene_status \"NOVEL\"; level \"1\"; transcript_name \"C5_02650C_B-T\"; transcript_status \"NOVEL\"; gene_id \"C5_02650C_B\"; exon_id \"C5_02650C_B-T\"; exon_number \"1\"; ccdsid \"CAL0000195171\"; transcript_id \"C5_02650C_B-T\"; gene_type \"protein_coding\"; transcript_type \"protein_coding\"; gene_name \"PGA44\";\n",
      "Error with cds: Ca22chr3A_C_albicans_SC5314\tCGD\tUTR\t598208\t598571\t.\t-\t1\tgene_status \"NOVEL\"; level \"1\"; transcript_name \"C5_02650C_B-T\"; transcript_status \"NOVEL\"; gene_id \"C5_02650C_B\"; exon_id \"C5_02650C_B-T\"; exon_number \"1\"; ccdsid \"CAL0000195171\"; transcript_id \"C5_02650C_B-T\"; gene_type \"protein_coding\"; transcript_type \"protein_coding\"; gene_name \"PGA44\";\t Ca22chr3A_C_albicans_SC5314\tCGD\tCDS\t595555\t598209\t.\t-\t1\tgene_status \"NOVEL\"; level \"1\"; transcript_name \"C5_02650C_B-T\"; transcript_status \"NOVEL\"; gene_id \"C5_02650C_B\"; exon_id \"C5_02650C_B-T\"; exon_number \"1\"; ccdsid \"CAL0000195171\"; transcript_id \"C5_02650C_B-T\"; gene_type \"protein_coding\"; transcript_type \"protein_coding\"; gene_name \"PGA44\"; \t Ca22chr3A_C_albicans_SC5314\tCGD\tCDS\t595555\t598209\t.\t-\t1\tgene_status \"NOVEL\"; level \"1\"; transcript_name \"C5_02650C_B-T\"; transcript_status \"NOVEL\"; gene_id \"C5_02650C_B\"; exon_id \"C5_02650C_B-T\"; exon_number \"1\"; ccdsid \"CAL0000195171\"; transcript_id \"C5_02650C_B-T\"; gene_type \"protein_coding\"; transcript_type \"protein_coding\"; gene_name \"PGA44\";\n",
      "Error with cds: Ca22chrRA_C_albicans_SC5314\tCGD\tUTR\t596355\t597083\t.\t-\t1\tgene_status \"KNOWN\"; exon_number \"1\"; level \"1\"; transcript_status \"KNOWN\"; gene_id \"C5_02650C_A\"; exon_id \"C5_02650C_A-T\"; transcript_type \"protein_coding\"; transcript_name \"C5_02650C_A-T\"; ccdsid \"CAL0000182191\"; transcript_id \"C5_02650C_A-T\"; gene_type \"protein_coding\"; protein_id \"orf19.4282,orf19.11757,orf19.11758,orf19.4281\"; gene_name \"C5_02650C_B\";\t Ca22chrRA_C_albicans_SC5314\tCGD\tCDS\t595465\t598119\t.\t-\t1\tgene_status \"KNOWN\"; exon_number \"1\"; level \"1\"; transcript_status \"KNOWN\"; gene_id \"C5_02650C_A\"; exon_id \"C5_02650C_A-T\"; transcript_type \"protein_coding\"; transcript_name \"C5_02650C_A-T\"; ccdsid \"CAL0000182191\"; transcript_id \"C5_02650C_A-T\"; gene_type \"protein_coding\"; protein_id \"orf19.4282,orf19.11757,orf19.11758,orf19.4281\"; gene_name \"C5_02650C_B\"; \t Ca22chrRA_C_albicans_SC5314\tCGD\tCDS\t595465\t598119\t.\t-\t1\tgene_status \"KNOWN\"; exon_number \"1\"; level \"1\"; transcript_status \"KNOWN\"; gene_id \"C5_02650C_A\"; exon_id \"C5_02650C_A-T\"; transcript_type \"protein_coding\"; transcript_name \"C5_02650C_A-T\"; ccdsid \"CAL0000182191\"; transcript_id \"C5_02650C_A-T\"; gene_type \"protein_coding\"; protein_id \"orf19.4282,orf19.11757,orf19.11758,orf19.4281\"; gene_name \"C5_02650C_B\";\n",
      "Error with cds: Ca22chrRA_C_albicans_SC5314\tCGD\tUTR\t596354\t597037\t.\t-\t1\tgene_status \"KNOWN\"; exon_number \"1\"; level \"1\"; transcript_status \"KNOWN\"; gene_id \"C5_02650C_A\"; exon_id \"C5_02650C_A-T\"; transcript_type \"protein_coding\"; transcript_name \"C5_02650C_A-T\"; ccdsid \"CAL0000182191\"; transcript_id \"C5_02650C_A-T\"; gene_type \"protein_coding\"; protein_id \"orf19.4282,orf19.11757,orf19.11758,orf19.4281\"; gene_name \"C5_02650C_B\";\t Ca22chrRA_C_albicans_SC5314\tCGD\tCDS\t595465\t598119\t.\t-\t1\tgene_status \"KNOWN\"; exon_number \"1\"; level \"1\"; transcript_status \"KNOWN\"; gene_id \"C5_02650C_A\"; exon_id \"C5_02650C_A-T\"; transcript_type \"protein_coding\"; transcript_name \"C5_02650C_A-T\"; ccdsid \"CAL0000182191\"; transcript_id \"C5_02650C_A-T\"; gene_type \"protein_coding\"; protein_id \"orf19.4282,orf19.11757,orf19.11758,orf19.4281\"; gene_name \"C5_02650C_B\"; \t Ca22chrRA_C_albicans_SC5314\tCGD\tCDS\t595465\t598119\t.\t-\t1\tgene_status \"KNOWN\"; exon_number \"1\"; level \"1\"; transcript_status \"KNOWN\"; gene_id \"C5_02650C_A\"; exon_id \"C5_02650C_A-T\"; transcript_type \"protein_coding\"; transcript_name \"C5_02650C_A-T\"; ccdsid \"CAL0000182191\"; transcript_id \"C5_02650C_A-T\"; gene_type \"protein_coding\"; protein_id \"orf19.4282,orf19.11757,orf19.11758,orf19.4281\"; gene_name \"C5_02650C_B\";\n",
      "Error with cds: Ca22chrRA_C_albicans_SC5314\tCGD\tUTR\t598118\t598478\t.\t-\t1\tgene_status \"KNOWN\"; exon_number \"1\"; level \"1\"; transcript_status \"KNOWN\"; gene_id \"C5_02650C_A\"; exon_id \"C5_02650C_A-T\"; transcript_type \"protein_coding\"; transcript_name \"C5_02650C_A-T\"; ccdsid \"CAL0000182191\"; transcript_id \"C5_02650C_A-T\"; gene_type \"protein_coding\"; protein_id \"orf19.4282,orf19.11757,orf19.11758,orf19.4281\"; gene_name \"C5_02650C_B\";\t Ca22chrRA_C_albicans_SC5314\tCGD\tCDS\t595465\t598119\t.\t-\t1\tgene_status \"KNOWN\"; exon_number \"1\"; level \"1\"; transcript_status \"KNOWN\"; gene_id \"C5_02650C_A\"; exon_id \"C5_02650C_A-T\"; transcript_type \"protein_coding\"; transcript_name \"C5_02650C_A-T\"; ccdsid \"CAL0000182191\"; transcript_id \"C5_02650C_A-T\"; gene_type \"protein_coding\"; protein_id \"orf19.4282,orf19.11757,orf19.11758,orf19.4281\"; gene_name \"C5_02650C_B\"; \t Ca22chrRA_C_albicans_SC5314\tCGD\tCDS\t595465\t598119\t.\t-\t1\tgene_status \"KNOWN\"; exon_number \"1\"; level \"1\"; transcript_status \"KNOWN\"; gene_id \"C5_02650C_A\"; exon_id \"C5_02650C_A-T\"; transcript_type \"protein_coding\"; transcript_name \"C5_02650C_A-T\"; ccdsid \"CAL0000182191\"; transcript_id \"C5_02650C_A-T\"; gene_type \"protein_coding\"; protein_id \"orf19.4282,orf19.11757,orf19.11758,orf19.4281\"; gene_name \"C5_02650C_B\";\n",
      "Error with cds: Ca22chr3B_C_albicans_SC5314\tCGD\tUTR\t940780\t941259\t.\t-\t.\tgene_status \"NOVEL\"; level \"1\"; transcript_name \"C3_04500C_B-T\"; transcript_status \"NOVEL\"; gene_id \"C3_04500C_B\"; exon_id \"C3_04500C_B-T\"; exon_number \"1\"; ccdsid \"CAL0000197042\"; transcript_id \"C3_04500C_B-T\"; gene_type \"protein_coding\"; transcript_type \"protein_coding\"; gene_name \"C1_05660C_B\";\t Ca22chr3B_C_albicans_SC5314\tCGD\tCDS\t942263\t942264\t.\t-\t1\tgene_status \"NOVEL\"; level \"1\"; transcript_name \"C3_04500C_B-T\"; transcript_status \"NOVEL\"; gene_id \"C3_04500C_B\"; exon_id \"C3_04500C_B-T\"; exon_number \"2\"; ccdsid \"CAL0000197042\"; transcript_id \"C3_04500C_B-T\"; gene_type \"protein_coding\"; transcript_type \"protein_coding\"; gene_name \"C1_05660C_B\"; \t Ca22chr3B_C_albicans_SC5314\tCGD\tCDS\t941259\t941826\t.\t-\t1\tgene_status \"NOVEL\"; level \"1\"; transcript_name \"C3_04500C_B-T\"; transcript_status \"NOVEL\"; gene_id \"C3_04500C_B\"; exon_id \"C3_04500C_B-T\"; exon_number \"1\"; ccdsid \"CAL0000197042\"; transcript_id \"C3_04500C_B-T\"; gene_type \"protein_coding\"; transcript_type \"protein_coding\"; gene_name \"C1_05660C_B\";\n",
      "Error with cds: Ca22chr3A_C_albicans_SC5314\tCGD\tUTR\t940802\t941281\t.\t-\t.\tgene_status \"KNOWN\"; exon_number \"1\"; level \"1\"; transcript_status \"KNOWN\"; gene_id \"C3_04500C_A\"; exon_id \"C3_04500C_A-T\"; transcript_type \"protein_coding\"; transcript_name \"C3_04500C_A-T\"; ccdsid \"CAL0000180894\"; transcript_id \"C3_04500C_A-T\"; gene_type \"protein_coding\"; protein_id \"orf19.5904,orf19.13325\"; gene_name \"C1_05660C_B\";\t Ca22chr3A_C_albicans_SC5314\tCGD\tCDS\t942285\t942286\t.\t-\t1\tgene_status \"KNOWN\"; exon_number \"2\"; level \"1\"; transcript_status \"KNOWN\"; gene_id \"C3_04500C_A\"; exon_id \"C3_04500C_A-T\"; transcript_type \"protein_coding\"; transcript_name \"C3_04500C_A-T\"; ccdsid \"CAL0000180894\"; transcript_id \"C3_04500C_A-T\"; gene_type \"protein_coding\"; protein_id \"orf19.5904,orf19.13325\"; gene_name \"C1_05660C_B\"; \t Ca22chr3A_C_albicans_SC5314\tCGD\tCDS\t941281\t941848\t.\t-\t1\tgene_status \"KNOWN\"; exon_number \"1\"; level \"1\"; transcript_status \"KNOWN\"; gene_id \"C3_04500C_A\"; exon_id \"C3_04500C_A-T\"; transcript_type \"protein_coding\"; transcript_name \"C3_04500C_A-T\"; ccdsid \"CAL0000180894\"; transcript_id \"C3_04500C_A-T\"; gene_type \"protein_coding\"; protein_id \"orf19.5904,orf19.13325\"; gene_name \"C1_05660C_B\";\n",
      "Error with cds: Ca22chrRB_C_albicans_SC5314\tCGD\tUTR\t743014\t743015\t.\t-\t1\tgene_status \"NOVEL\"; level \"1\"; transcript_name \"CR_03310C_B-T\"; transcript_status \"NOVEL\"; gene_id \"CR_03310C_B\"; exon_id \"CR_03310C_B-T\"; exon_number \"2\"; ccdsid \"CAL0000201512\"; transcript_id \"CR_03310C_B-T\"; gene_type \"protein_coding\"; transcript_type \"protein_coding\"; gene_name \"MSH2\";\t Ca22chrRB_C_albicans_SC5314\tCGD\tCDS\t742977\t743014\t.\t-\t1\tgene_status \"NOVEL\"; level \"1\"; transcript_name \"CR_03310C_B-T\"; transcript_status \"NOVEL\"; gene_id \"CR_03310C_B\"; exon_id \"CR_03310C_B-T\"; exon_number \"2\"; ccdsid \"CAL0000201512\"; transcript_id \"CR_03310C_B-T\"; gene_type \"protein_coding\"; transcript_type \"protein_coding\"; gene_name \"MSH2\"; \t Ca22chrRB_C_albicans_SC5314\tCGD\tCDS\t742171\t742874\t.\t-\t1\tgene_status \"NOVEL\"; level \"1\"; transcript_name \"CR_03310C_B-T\"; transcript_status \"NOVEL\"; gene_id \"CR_03310C_B\"; exon_id \"CR_03310C_B-T\"; exon_number \"1\"; ccdsid \"CAL0000201512\"; transcript_id \"CR_03310C_B-T\"; gene_type \"protein_coding\"; transcript_type \"protein_coding\"; gene_name \"MSH2\";\n",
      "Error with cds: Ca22chr6A_C_albicans_SC5314\tCGD\tUTR\t492795\t492878\t.\t-\t1\tgene_status \"NOVEL\"; exon_number \"2\"; level \"1\"; transcript_status \"NOVEL\"; gene_id \"C6_02350C_A\"; exon_id \"C6_02350C_A-T\"; transcript_type \"protein_coding\"; transcript_name \"C6_02350C_A-T\"; ccdsid \"CAL0000183350\"; transcript_id \"C6_02350C_A-T\"; gene_type \"protein_coding\"; protein_id \"orf19.3477,orf19.10981,orf19.10983,orf19.3479\"; gene_name \"GCD11\";\t Ca22chr6A_C_albicans_SC5314\tCGD\tCDS\t492986\t493362\t.\t-\t1\tgene_status \"NOVEL\"; exon_number \"2\"; level \"1\"; transcript_status \"NOVEL\"; gene_id \"C6_02350C_A\"; exon_id \"C6_02350C_A-T\"; transcript_type \"protein_coding\"; transcript_name \"C6_02350C_A-T\"; ccdsid \"CAL0000183350\"; transcript_id \"C6_02350C_A-T\"; gene_type \"protein_coding\"; protein_id \"orf19.3477,orf19.10981,orf19.10983,orf19.3479\"; gene_name \"GCD11\"; \t Ca22chr6A_C_albicans_SC5314\tCGD\tCDS\t491419\t492877\t.\t-\t1\tgene_status \"NOVEL\"; exon_number \"1\"; level \"1\"; transcript_status \"NOVEL\"; gene_id \"C6_02350C_A\"; exon_id \"C6_02350C_A-T\"; transcript_type \"protein_coding\"; transcript_name \"C6_02350C_A-T\"; ccdsid \"CAL0000183350\"; transcript_id \"C6_02350C_A-T\"; gene_type \"protein_coding\"; protein_id \"orf19.3477,orf19.10981,orf19.10983,orf19.3479\"; gene_name \"GCD11\";\n",
      "Error with cds: Ca22chr6A_C_albicans_SC5314\tCGD\tUTR\t492794\t492877\t.\t-\t1\tgene_status \"NOVEL\"; exon_number \"1\"; level \"1\"; transcript_status \"NOVEL\"; gene_id \"C6_02350C_A\"; exon_id \"C6_02350C_A-T\"; transcript_type \"protein_coding\"; transcript_name \"C6_02350C_A-T\"; ccdsid \"CAL0000183350\"; transcript_id \"C6_02350C_A-T\"; gene_type \"protein_coding\"; protein_id \"orf19.3477,orf19.10981,orf19.10983,orf19.3479\"; gene_name \"GCD11\";\t Ca22chr6A_C_albicans_SC5314\tCGD\tCDS\t492986\t493362\t.\t-\t1\tgene_status \"NOVEL\"; exon_number \"2\"; level \"1\"; transcript_status \"NOVEL\"; gene_id \"C6_02350C_A\"; exon_id \"C6_02350C_A-T\"; transcript_type \"protein_coding\"; transcript_name \"C6_02350C_A-T\"; ccdsid \"CAL0000183350\"; transcript_id \"C6_02350C_A-T\"; gene_type \"protein_coding\"; protein_id \"orf19.3477,orf19.10981,orf19.10983,orf19.3479\"; gene_name \"GCD11\"; \t Ca22chr6A_C_albicans_SC5314\tCGD\tCDS\t491419\t492877\t.\t-\t1\tgene_status \"NOVEL\"; exon_number \"1\"; level \"1\"; transcript_status \"NOVEL\"; gene_id \"C6_02350C_A\"; exon_id \"C6_02350C_A-T\"; transcript_type \"protein_coding\"; transcript_name \"C6_02350C_A-T\"; ccdsid \"CAL0000183350\"; transcript_id \"C6_02350C_A-T\"; gene_type \"protein_coding\"; protein_id \"orf19.3477,orf19.10981,orf19.10983,orf19.3479\"; gene_name \"GCD11\";\n",
      "Error with cds: Ca22chr6B_C_albicans_SC5314\tCGD\tUTR\t492744\t492827\t.\t-\t1\tgene_status \"NOVEL\"; level \"1\"; transcript_name \"C6_02350C_B-T\"; transcript_status \"NOVEL\"; gene_id \"C6_02350C_B\"; exon_id \"C6_02350C_B-T\"; exon_number \"2\"; ccdsid \"CAL0000195438\"; transcript_id \"C6_02350C_B-T\"; gene_type \"protein_coding\"; transcript_type \"protein_coding\"; gene_name \"GCD11\";\t Ca22chr6B_C_albicans_SC5314\tCGD\tCDS\t492936\t493312\t.\t-\t1\tgene_status \"NOVEL\"; level \"1\"; transcript_name \"C6_02350C_B-T\"; transcript_status \"NOVEL\"; gene_id \"C6_02350C_B\"; exon_id \"C6_02350C_B-T\"; exon_number \"2\"; ccdsid \"CAL0000195438\"; transcript_id \"C6_02350C_B-T\"; gene_type \"protein_coding\"; transcript_type \"protein_coding\"; gene_name \"GCD11\"; \t Ca22chr6B_C_albicans_SC5314\tCGD\tCDS\t491368\t492826\t.\t-\t1\tgene_status \"NOVEL\"; level \"1\"; transcript_name \"C6_02350C_B-T\"; transcript_status \"NOVEL\"; gene_id \"C6_02350C_B\"; exon_id \"C6_02350C_B-T\"; exon_number \"1\"; ccdsid \"CAL0000195438\"; transcript_id \"C6_02350C_B-T\"; gene_type \"protein_coding\"; transcript_type \"protein_coding\"; gene_name \"GCD11\";\n",
      "Error with cds: Ca22chr6B_C_albicans_SC5314\tCGD\tUTR\t492743\t492826\t.\t-\t1\tgene_status \"NOVEL\"; level \"1\"; transcript_name \"C6_02350C_B-T\"; transcript_status \"NOVEL\"; gene_id \"C6_02350C_B\"; exon_id \"C6_02350C_B-T\"; exon_number \"1\"; ccdsid \"CAL0000195438\"; transcript_id \"C6_02350C_B-T\"; gene_type \"protein_coding\"; transcript_type \"protein_coding\"; gene_name \"GCD11\";\t Ca22chr6B_C_albicans_SC5314\tCGD\tCDS\t492936\t493312\t.\t-\t1\tgene_status \"NOVEL\"; level \"1\"; transcript_name \"C6_02350C_B-T\"; transcript_status \"NOVEL\"; gene_id \"C6_02350C_B\"; exon_id \"C6_02350C_B-T\"; exon_number \"2\"; ccdsid \"CAL0000195438\"; transcript_id \"C6_02350C_B-T\"; gene_type \"protein_coding\"; transcript_type \"protein_coding\"; gene_name \"GCD11\"; \t Ca22chr6B_C_albicans_SC5314\tCGD\tCDS\t491368\t492826\t.\t-\t1\tgene_status \"NOVEL\"; level \"1\"; transcript_name \"C6_02350C_B-T\"; transcript_status \"NOVEL\"; gene_id \"C6_02350C_B\"; exon_id \"C6_02350C_B-T\"; exon_number \"1\"; ccdsid \"CAL0000195438\"; transcript_id \"C6_02350C_B-T\"; gene_type \"protein_coding\"; transcript_type \"protein_coding\"; gene_name \"GCD11\";\n",
      "Error with cds: Ca22chr5A_C_albicans_SC5314\tCGD\tUTR\t997749\t997817\t.\t-\t1\tgene_status \"NOVEL\"; exon_number \"1\"; level \"1\"; transcript_status \"NOVEL\"; gene_id \"C5_04590C_A\"; exon_id \"C5_04590C_A-T\"; transcript_type \"protein_coding\"; transcript_name \"C5_04590C_A-T\"; ccdsid \"CAL0000185522\"; transcript_id \"C5_04590C_A-T\"; gene_type \"protein_coding\"; protein_id \"orf19.3942\"; gene_name \"CDC39\";\t Ca22chr5A_C_albicans_SC5314\tCGD\tCDS\t997749\t997750\t.\t-\t1\tgene_status \"NOVEL\"; exon_number \"2\"; level \"1\"; transcript_status \"NOVEL\"; gene_id \"C5_04590C_A\"; exon_id \"C5_04590C_A-T\"; transcript_type \"protein_coding\"; transcript_name \"C5_04590C_A-T\"; ccdsid \"CAL0000185522\"; transcript_id \"C5_04590C_A-T\"; gene_type \"protein_coding\"; protein_id \"orf19.3942\"; gene_name \"CDC39\"; \t Ca22chr5A_C_albicans_SC5314\tCGD\tCDS\t997102\t997375\t.\t-\t1\tgene_status \"NOVEL\"; exon_number \"1\"; level \"1\"; transcript_status \"NOVEL\"; gene_id \"C5_04590C_A\"; exon_id \"C5_04590C_A-T\"; transcript_type \"protein_coding\"; transcript_name \"C5_04590C_A-T\"; ccdsid \"CAL0000185522\"; transcript_id \"C5_04590C_A-T\"; gene_type \"protein_coding\"; protein_id \"orf19.3942\"; gene_name \"CDC39\";\n",
      "Error with cds: Ca22chr5B_C_albicans_SC5314\tCGD\tUTR\t997872\t997940\t.\t-\t1\tgene_status \"NOVEL\"; level \"1\"; transcript_name \"C5_04590C_B-T\"; transcript_status \"NOVEL\"; gene_id \"C5_04590C_B\"; exon_id \"C5_04590C_B-T\"; exon_number \"1\"; ccdsid \"CAL0000199046\"; transcript_id \"C5_04590C_B-T\"; gene_type \"protein_coding\"; transcript_type \"protein_coding\"; gene_name \"C6_00560W_B\";\t Ca22chr5B_C_albicans_SC5314\tCGD\tCDS\t997872\t997873\t.\t-\t1\tgene_status \"NOVEL\"; level \"1\"; transcript_name \"C5_04590C_B-T\"; transcript_status \"NOVEL\"; gene_id \"C5_04590C_B\"; exon_id \"C5_04590C_B-T\"; exon_number \"2\"; ccdsid \"CAL0000199046\"; transcript_id \"C5_04590C_B-T\"; gene_type \"protein_coding\"; transcript_type \"protein_coding\"; gene_name \"C6_00560W_B\"; \t Ca22chr5B_C_albicans_SC5314\tCGD\tCDS\t997227\t997500\t.\t-\t1\tgene_status \"NOVEL\"; level \"1\"; transcript_name \"C5_04590C_B-T\"; transcript_status \"NOVEL\"; gene_id \"C5_04590C_B\"; exon_id \"C5_04590C_B-T\"; exon_number \"1\"; ccdsid \"CAL0000199046\"; transcript_id \"C5_04590C_B-T\"; gene_type \"protein_coding\"; transcript_type \"protein_coding\"; gene_name \"C6_00560W_B\";\n",
      "Error with cds: Ca22chr3B_C_albicans_SC5314\tCGD\tUTR\t214764\t214765\t.\t-\t1\tgene_status \"NOVEL\"; level \"1\"; transcript_name \"C3_01040C_B-T\"; transcript_status \"NOVEL\"; gene_id \"C3_01040C_B\"; exon_id \"C3_01040C_B-T\"; exon_number \"2\"; ccdsid \"CAL0000191253\"; transcript_id \"C3_01040C_B-T\"; gene_type \"protein_coding\"; transcript_type \"protein_coding\"; gene_name \"C3_07550C_B\";\t Ca22chr3B_C_albicans_SC5314\tCGD\tCDS\t214836\t215359\t.\t-\t1\tgene_status \"NOVEL\"; level \"1\"; transcript_name \"C3_01040C_B-T\"; transcript_status \"NOVEL\"; gene_id \"C3_01040C_B\"; exon_id \"C3_01040C_B-T\"; exon_number \"2\"; ccdsid \"CAL0000191253\"; transcript_id \"C3_01040C_B-T\"; gene_type \"protein_coding\"; transcript_type \"protein_coding\"; gene_name \"C3_07550C_B\"; \t Ca22chr3B_C_albicans_SC5314\tCGD\tCDS\t213608\t214763\t.\t-\t1\tgene_status \"NOVEL\"; level \"1\"; transcript_name \"C3_01040C_B-T\"; transcript_status \"NOVEL\"; gene_id \"C3_01040C_B\"; exon_id \"C3_01040C_B-T\"; exon_number \"1\"; ccdsid \"CAL0000191253\"; transcript_id \"C3_01040C_B-T\"; gene_type \"protein_coding\"; transcript_type \"protein_coding\"; gene_name \"C3_07550C_B\";\n"
     ]
    },
    {
     "data": {
      "text/plain": [
       "<BedTool(/home/cmb-panasas2/skchoudh/genomes/C_albicans_SC5314/Assembly22/annotation/C_albicans_SC5314_version_A22-s07-m01-r50_features.encode.gffutils.cds.bed)>"
      ]
     },
     "execution_count": 6,
     "metadata": {},
     "output_type": "execute_result"
    }
   ],
   "source": [
    "utr5_bed = ''\n",
    "utr3_bed = ''\n",
    "gene_bed = ''\n",
    "exon_bed = ''\n",
    "intron_bed = ''\n",
    "start_codon_bed = ''\n",
    "stop_codon_bed = ''\n",
    "cds_bed = ''\n",
    "\n",
    "gene_list = []\n",
    "\n",
    "for gene_id in get_gene_list(gene_dict):\n",
    "    gene_list.append(gene_dict[gene_id]['gene'])\n",
    "    \n",
    "    utr5_regions, utr3_regions = [], []\n",
    "    exon_regions, intron_regions = [], []\n",
    "    star_codon_regions, stop_codon_regions = [], []\n",
    "    cds_regions = []\n",
    "    \n",
    "    for feature in gene_dict[gene_id].keys():\n",
    "        if feature == 'gene':\n",
    "            continue\n",
    "        cds = list(gene_dict[gene_id][feature]['CDS'])\n",
    "        exons = list(gene_dict[gene_id][feature]['exon'])\n",
    "        merged_exons = merge_regions(db, exons)\n",
    "        introns = db.interfeatures(merged_exons)\n",
    "        utr5_region, utr3_region = get_UTR_regions(gene_dict, gene_id, feature, cds)\n",
    "        utr5_regions += utr5_region\n",
    "        utr3_regions += utr3_region\n",
    "        exon_regions += exons\n",
    "        intron_regions += introns\n",
    "        cds_regions += cds\n",
    "        \n",
    "    merged_utr5 = merge_regions(db, utr5_regions)\n",
    "    renamed_utr5 = rename_regions(merged_utr5, gene_id)\n",
    "    \n",
    "    merged_utr3 = merge_regions(db, utr3_regions)\n",
    "    renamed_utr3 = rename_regions(merged_utr3, gene_id)\n",
    "    \n",
    "    merged_exons = merge_regions(db, exon_regions)\n",
    "    renamed_exons = rename_regions(merged_exons, gene_id)\n",
    "    \n",
    "    merged_introns = merge_regions(db, intron_regions)\n",
    "    renamed_introns = rename_regions(merged_introns, gene_id)\n",
    "    \n",
    "    merged_cds = merge_regions(db, cds_regions)\n",
    "    renamed_cds = rename_regions(merged_cds, gene_id)\n",
    "    \n",
    "    utr3_bed += create_bed(renamed_utr3)\n",
    "    utr5_bed += create_bed(renamed_utr5)\n",
    "    exon_bed += create_bed(renamed_exons)\n",
    "    intron_bed += create_bed(renamed_introns)\n",
    "    cds_bed += create_bed(renamed_cds)\n",
    "    \n",
    "    \n",
    "gene_bed = create_bed(gene_list)\n",
    "gene_bedtool = pybedtools.BedTool(gene_bed, from_string=True)\n",
    "utr5_bedtool = pybedtools.BedTool(utr5_bed, from_string=True)\n",
    "utr3_bedtool = pybedtools.BedTool(utr3_bed, from_string=True)\n",
    "exon_bedtool = pybedtools.BedTool(exon_bed, from_string=True)\n",
    "intron_bedtool = pybedtools.BedTool(intron_bed, from_string=True)\n",
    "cds_bedtool = pybedtools.BedTool(cds_bed, from_string=True)\n",
    "\n",
    "gene_bedtool.remove_invalid().sort().saveas('{}.genes.bed'.format(prefix))\n",
    "utr5_bedtool.remove_invalid().sort().saveas('{}.UTR5.bed'.format(prefix))\n",
    "utr3_bedtool.remove_invalid().sort().saveas('{}.UTR3.bed'.format(prefix))\n",
    "exon_bedtool.remove_invalid().sort().saveas('{}.exon.bed'.format(prefix))\n",
    "intron_bedtool.remove_invalid().sort().saveas('{}.intron.bed'.format(prefix))\n",
    "cds_bedtool.remove_invalid().sort().saveas('{}.cds.bed'.format(prefix))\n"
   ]
  },
  {
   "cell_type": "code",
   "execution_count": 7,
   "metadata": {
    "ExecuteTime": {
     "end_time": "2018-03-04T22:28:00.661885Z",
     "start_time": "2018-03-04T22:26:25.864917Z"
    }
   },
   "outputs": [
    {
     "data": {
      "text/plain": [
       "<BedTool(/home/cmb-panasas2/skchoudh/genomes/C_albicans_SC5314/Assembly22/annotation/C_albicans_SC5314_version_A22-s07-m01-r50_features.encode.gffutils.stop_codon.bed)>"
      ]
     },
     "execution_count": 7,
     "metadata": {},
     "output_type": "execute_result"
    }
   ],
   "source": [
    "for gene_id in get_gene_list(gene_dict):\n",
    "    start_codons = []\n",
    "    stop_codons = []\n",
    "    for start_codon in db.children(gene_id, featuretype='start_codon'):\n",
    "        ## 1 -based stop\n",
    "        ## 0-based start handled while converting to bed\n",
    "        start_codon.stop = start_codon.start\n",
    "        start_codons.append(start_codon)\n",
    "    for stop_codon in db.children(gene_id, featuretype='stop_codon'):\n",
    "        stop_codon.start = stop_codon.stop\n",
    "        stop_codon.stop = stop_codon.stop+1\n",
    "        stop_codons.append(stop_codon)\n",
    "    merged_start_codons = merge_regions(db, start_codons)\n",
    "    renamed_start_codons = rename_regions(merged_start_codons, gene_id)\n",
    "    merged_stop_codons = merge_regions(db, stop_codons)\n",
    "    renamed_stop_codons = rename_regions(merged_stop_codons, gene_id)\n",
    "    \n",
    "    start_codon_bed += create_bed(renamed_start_codons)    \n",
    "    stop_codon_bed += create_bed(renamed_stop_codons)\n",
    "\n",
    "    \n",
    "start_codon_bedtool = pybedtools.BedTool(start_codon_bed, from_string=True)\n",
    "stop_codon_bedtool = pybedtools.BedTool(stop_codon_bed, from_string=True)\n",
    "start_codon_bedtool.remove_invalid().sort().saveas('{}.start_codon.bed'.format(prefix))\n",
    "stop_codon_bedtool.remove_invalid().sort().saveas('{}.stop_codon.bed'.format(prefix))"
   ]
  },
  {
   "cell_type": "code",
   "execution_count": 8,
   "metadata": {
    "ExecuteTime": {
     "end_time": "2018-03-04T22:29:28.385362Z",
     "start_time": "2018-03-04T22:28:00.672786Z"
    }
   },
   "outputs": [
    {
     "data": {
      "text/plain": [
       "<BedTool(/home/cmb-panasas2/skchoudh/genomes/C_albicans_SC5314/Assembly22/annotation/C_albicans_SC5314_version_A22-s07-m01-r50_features.encode.gffutils.tss_sites.bed)>"
      ]
     },
     "execution_count": 8,
     "metadata": {},
     "output_type": "execute_result"
    }
   ],
   "source": [
    "## TSS\n",
    "polyA_sites_bed = ''\n",
    "tss_sites_bed = ''\n",
    "for gene_id in get_gene_list(gene_dict):\n",
    "    tss_sites = []\n",
    "    polyA_sites = []\n",
    "    for transcript in db.children(gene_id, featuretype='transcript'):\n",
    "        start_t = copy.deepcopy(transcript)\n",
    "        stop_t = copy.deepcopy(transcript)\n",
    "        \n",
    "        start_t.stop = start_t.start + 1\n",
    "        \n",
    "        stop_t.start = stop_t.stop\n",
    "        \n",
    "        if transcript.strand == '-':\n",
    "            start_t, stop_t = stop_t, start_t\n",
    "        polyA_sites.append(start_t)\n",
    "        tss_sites.append(stop_t)\n",
    "    merged_polyA_sites = merge_regions(db, polyA_sites)\n",
    "    renamed_polyA_sites = rename_regions(merged_polyA_sites, gene_id)    \n",
    "    merged_tss_sites = merge_regions(db, tss_sites)\n",
    "    renamed_tss_sites = rename_regions(merged_tss_sites, gene_id)\n",
    "    polyA_sites_bed += create_bed(renamed_polyA_sites)    \n",
    "    tss_sites_bed += create_bed(renamed_tss_sites)\n",
    "\n",
    "polyA_sites_bedtool = pybedtools.BedTool(polyA_sites_bed, from_string=True)\n",
    "tss_sites_bedtool = pybedtools.BedTool(tss_sites_bed, from_string=True)\n",
    "polyA_sites_bedtool.remove_invalid().sort().saveas('{}.polyA_sites.bed'.format(prefix))\n",
    "tss_sites_bedtool.remove_invalid().sort().saveas('{}.tss_sites.bed'.format(prefix))"
   ]
  },
  {
   "cell_type": "markdown",
   "metadata": {},
   "source": [
    "# TSS"
   ]
  },
  {
   "cell_type": "code",
   "execution_count": 9,
   "metadata": {
    "ExecuteTime": {
     "end_time": "2018-03-04T22:29:34.614774Z",
     "start_time": "2018-03-04T22:29:28.391214Z"
    }
   },
   "outputs": [
    {
     "data": {
      "text/plain": [
       "<BedTool(/home/cmb-panasas2/skchoudh/genomes/C_albicans_SC5314/Assembly22/annotation/C_albicans_SC5314_version_A22-s07-m01-r50_features.encode.gffutils.promoter.1000.bed)>"
      ]
     },
     "execution_count": 9,
     "metadata": {},
     "output_type": "execute_result"
    }
   ],
   "source": [
    "tss = tsses(db, as_bed6=True, merge_overlapping=False)\n",
    "tss.remove_invalid().sort().saveas('{}.tss_temp.bed'.format(prefix))\n",
    "promoter = tss.slop(l=1000, r=1000, s=True, g=chrsizes)\n",
    "promoter.remove_invalid().sort().saveas('{}.promoter.1000.bed'.format(prefix))"
   ]
  },
  {
   "cell_type": "code",
   "execution_count": 10,
   "metadata": {
    "ExecuteTime": {
     "end_time": "2018-03-04T22:29:38.293570Z",
     "start_time": "2018-03-04T22:29:34.620539Z"
    }
   },
   "outputs": [],
   "source": [
    "for l in [1000, 2000, 3000, 4000, 5000]:\n",
    "    promoter = tss.slop(l=l, r=l, s=True, g=chrsizes)\n",
    "    promoter.remove_invalid().sort().saveas('{}.promoter.{}.bed'.format(prefix, l))"
   ]
  },
  {
   "cell_type": "code",
   "execution_count": 11,
   "metadata": {
    "ExecuteTime": {
     "end_time": "2018-03-04T22:29:38.332537Z",
     "start_time": "2018-03-04T22:29:38.299792Z"
    }
   },
   "outputs": [
    {
     "name": "stdout",
     "output_type": "stream",
     "text": [
      "CDS\n",
      "UTR\n",
      "exon\n",
      "gene\n",
      "start_codon\n",
      "stop_codon\n",
      "transcript\n"
     ]
    }
   ],
   "source": [
    "for x in db.featuretypes():\n",
    "    print(x)"
   ]
  },
  {
   "cell_type": "code",
   "execution_count": 12,
   "metadata": {
    "ExecuteTime": {
     "end_time": "2018-03-04T22:30:51.133494Z",
     "start_time": "2018-03-04T22:29:38.338252Z"
    }
   },
   "outputs": [
    {
     "data": {
      "text/html": [
       "<div>\n",
       "<style scoped>\n",
       "    .dataframe tbody tr th:only-of-type {\n",
       "        vertical-align: middle;\n",
       "    }\n",
       "\n",
       "    .dataframe tbody tr th {\n",
       "        vertical-align: top;\n",
       "    }\n",
       "\n",
       "    .dataframe thead th {\n",
       "        text-align: right;\n",
       "    }\n",
       "</style>\n",
       "<table border=\"1\" class=\"dataframe\">\n",
       "  <thead>\n",
       "    <tr style=\"text-align: right;\">\n",
       "      <th></th>\n",
       "      <th>size</th>\n",
       "    </tr>\n",
       "    <tr>\n",
       "      <th>chrom</th>\n",
       "      <th></th>\n",
       "    </tr>\n",
       "  </thead>\n",
       "  <tbody>\n",
       "    <tr>\n",
       "      <th>Ca22chr1A_C_albicans_SC5314</th>\n",
       "      <td>3188341</td>\n",
       "    </tr>\n",
       "    <tr>\n",
       "      <th>Ca22chr1B_C_albicans_SC5314</th>\n",
       "      <td>3188396</td>\n",
       "    </tr>\n",
       "    <tr>\n",
       "      <th>Ca22chr2A_C_albicans_SC5314</th>\n",
       "      <td>2231883</td>\n",
       "    </tr>\n",
       "    <tr>\n",
       "      <th>Ca22chr2B_C_albicans_SC5314</th>\n",
       "      <td>2231750</td>\n",
       "    </tr>\n",
       "    <tr>\n",
       "      <th>Ca22chr3A_C_albicans_SC5314</th>\n",
       "      <td>1799298</td>\n",
       "    </tr>\n",
       "    <tr>\n",
       "      <th>Ca22chr3B_C_albicans_SC5314</th>\n",
       "      <td>1799271</td>\n",
       "    </tr>\n",
       "    <tr>\n",
       "      <th>Ca22chr4A_C_albicans_SC5314</th>\n",
       "      <td>1603259</td>\n",
       "    </tr>\n",
       "    <tr>\n",
       "      <th>Ca22chr4B_C_albicans_SC5314</th>\n",
       "      <td>1603311</td>\n",
       "    </tr>\n",
       "    <tr>\n",
       "      <th>Ca22chr5A_C_albicans_SC5314</th>\n",
       "      <td>1190869</td>\n",
       "    </tr>\n",
       "    <tr>\n",
       "      <th>Ca22chr5B_C_albicans_SC5314</th>\n",
       "      <td>1190991</td>\n",
       "    </tr>\n",
       "    <tr>\n",
       "      <th>Ca22chr6A_C_albicans_SC5314</th>\n",
       "      <td>1033292</td>\n",
       "    </tr>\n",
       "    <tr>\n",
       "      <th>Ca22chr6B_C_albicans_SC5314</th>\n",
       "      <td>1033212</td>\n",
       "    </tr>\n",
       "    <tr>\n",
       "      <th>Ca22chr7A_C_albicans_SC5314</th>\n",
       "      <td>949580</td>\n",
       "    </tr>\n",
       "    <tr>\n",
       "      <th>Ca22chr7B_C_albicans_SC5314</th>\n",
       "      <td>949611</td>\n",
       "    </tr>\n",
       "    <tr>\n",
       "      <th>Ca22chrM_C_albicans_SC5314</th>\n",
       "      <td>40420</td>\n",
       "    </tr>\n",
       "    <tr>\n",
       "      <th>Ca22chrRA_C_albicans_SC5314</th>\n",
       "      <td>2286237</td>\n",
       "    </tr>\n",
       "    <tr>\n",
       "      <th>Ca22chrRB_C_albicans_SC5314</th>\n",
       "      <td>2285697</td>\n",
       "    </tr>\n",
       "  </tbody>\n",
       "</table>\n",
       "</div>"
      ],
      "text/plain": [
       "                                size\n",
       "chrom                               \n",
       "Ca22chr1A_C_albicans_SC5314  3188341\n",
       "Ca22chr1B_C_albicans_SC5314  3188396\n",
       "Ca22chr2A_C_albicans_SC5314  2231883\n",
       "Ca22chr2B_C_albicans_SC5314  2231750\n",
       "Ca22chr3A_C_albicans_SC5314  1799298\n",
       "Ca22chr3B_C_albicans_SC5314  1799271\n",
       "Ca22chr4A_C_albicans_SC5314  1603259\n",
       "Ca22chr4B_C_albicans_SC5314  1603311\n",
       "Ca22chr5A_C_albicans_SC5314  1190869\n",
       "Ca22chr5B_C_albicans_SC5314  1190991\n",
       "Ca22chr6A_C_albicans_SC5314  1033292\n",
       "Ca22chr6B_C_albicans_SC5314  1033212\n",
       "Ca22chr7A_C_albicans_SC5314   949580\n",
       "Ca22chr7B_C_albicans_SC5314   949611\n",
       "Ca22chrM_C_albicans_SC5314     40420\n",
       "Ca22chrRA_C_albicans_SC5314  2286237\n",
       "Ca22chrRB_C_albicans_SC5314  2285697"
      ]
     },
     "execution_count": 12,
     "metadata": {},
     "output_type": "execute_result"
    }
   ],
   "source": [
    "for gene_id in get_gene_list(gene_dict):\n",
    "    for transcript in db.children(gene_id, featuretype='transcript'):\n",
    "        #print(transcript.attributes)\n",
    "        pass\n",
    "chrom_sizes = pd.read_table('/home/cmb-06/as/skchoudh/genomes/C_albicans_SC5314/Assembly22/fasta_v50/C_albicans_SC5314_version_A22-s07-m01-r50_chromosomes_clean_records.sizes', names=['chrom', 'size']).set_index('chrom')\n",
    "chrom_sizes"
   ]
  },
  {
   "cell_type": "code",
   "execution_count": 13,
   "metadata": {
    "ExecuteTime": {
     "end_time": "2018-03-04T22:30:51.133494Z",
     "start_time": "2018-03-04T22:29:38.338252Z"
    }
   },
   "outputs": [],
   "source": [
    "\n",
    "def clean_gff(db, chrom_sizes, gffout):\n",
    "    \n",
    "    # check if the coordinates are withing the chromosome's boundaries\n",
    "    with open(gffout, 'w') as f:\n",
    "        for feature in db.all_features():\n",
    "            if feature.stop <= chrom_sizes.loc[feature.chrom]['size']:\n",
    "                f.write('{}\\n'.format(feature))\n",
    "clean_gff(db, chrom_sizes, '/home/cmb-panasas2/skchoudh/genomes/C_albicans_SC5314/Assembly22/annotation/C_albicans_SC5314_version_A22-s07-m01-r50_features.encode.cleaned.gtf')\n",
    "            \n",
    "    "
   ]
  },
  {
   "cell_type": "code",
   "execution_count": 14,
   "metadata": {},
   "outputs": [
    {
     "name": "stdout",
     "output_type": "stream",
     "text": [
      "434200\n",
      "1799298\n"
     ]
    }
   ],
   "source": [
    "for feature in db.all_features():\n",
    "    print feature.stop\n",
    "    print chrom_sizes.loc[feature.chrom]['size']\n",
    "    break"
   ]
  },
  {
   "cell_type": "code",
   "execution_count": null,
   "metadata": {},
   "outputs": [],
   "source": []
  },
  {
   "cell_type": "code",
   "execution_count": null,
   "metadata": {},
   "outputs": [],
   "source": []
  }
 ],
 "metadata": {
  "hide_input": false,
  "kernelspec": {
   "display_name": "Python [default]",
   "language": "python",
   "name": "python2"
  },
  "language_info": {
   "codemirror_mode": {
    "name": "ipython",
    "version": 2
   },
   "file_extension": ".py",
   "mimetype": "text/x-python",
   "name": "python",
   "nbconvert_exporter": "python",
   "pygments_lexer": "ipython2",
   "version": "2.7.14"
  },
  "latex_envs": {
   "LaTeX_envs_menu_present": true,
   "autocomplete": true,
   "bibliofile": "biblio.bib",
   "cite_by": "apalike",
   "current_citInitial": 1,
   "eqLabelWithNumbers": true,
   "eqNumInitial": 1,
   "hotkeys": {
    "equation": "Ctrl-E",
    "itemize": "Ctrl-I"
   },
   "labels_anchors": false,
   "latex_user_defs": false,
   "report_style_numbering": false,
   "user_envs_cfg": false
  },
  "toc": {
   "nav_menu": {
    "height": "12px",
    "width": "252px"
   },
   "number_sections": true,
   "sideBar": true,
   "skip_h1_title": false,
   "title_cell": "Table of Contents",
   "title_sidebar": "Contents",
   "toc_cell": true,
   "toc_position": {},
   "toc_section_display": "block",
   "toc_window_display": true
  }
 },
 "nbformat": 4,
 "nbformat_minor": 2
}
