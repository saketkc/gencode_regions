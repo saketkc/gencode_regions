{
 "cells": [
  {
   "cell_type": "markdown",
   "metadata": {
    "run_control": {
     "frozen": false,
     "read_only": false
    },
    "toc": "true"
   },
   "source": [
    "# Table of Contents\n",
    " <p><div class=\"lev1 toc-item\"><a href=\"#TSS\" data-toc-modified-id=\"TSS-1\"><span class=\"toc-item-num\">1&nbsp;&nbsp;</span>TSS</a></div><div class=\"lev1 toc-item\"><a href=\"#tRNA\" data-toc-modified-id=\"tRNA-2\"><span class=\"toc-item-num\">2&nbsp;&nbsp;</span>tRNA</a></div>"
   ]
  },
  {
   "cell_type": "code",
   "execution_count": null,
   "metadata": {},
   "outputs": [],
   "source": []
  },
  {
   "cell_type": "code",
   "execution_count": 32,
   "metadata": {
    "ExecuteTime": {
     "end_time": "2017-07-18T04:29:20.440052Z",
     "start_time": "2017-07-18T04:29:06.927973Z"
    },
    "collapsed": true,
    "jupyter": {
     "outputs_hidden": true
    },
    "run_control": {
     "frozen": false,
     "read_only": false
    }
   },
   "outputs": [],
   "source": [
    "from collections import defaultdict, OrderedDict\n",
    "import warnings\n",
    "import gffutils\n",
    "import pybedtools\n",
    "import pandas as pd\n",
    "import copy\n",
    "import re\n",
    "from gffutils.pybedtools_integration import tsses\n",
    "from copy import deepcopy\n",
    "from collections import OrderedDict, Callable\n",
    "\n",
    "class DefaultOrderedDict(OrderedDict):\n",
    "    # Source: http://stackoverflow.com/a/6190500/562769\n",
    "    def __init__(self, default_factory=None, *a, **kw):\n",
    "        if (default_factory is not None and\n",
    "           not isinstance(default_factory, Callable)):\n",
    "            raise TypeError('first argument must be callable')\n",
    "        OrderedDict.__init__(self, *a, **kw)\n",
    "        self.default_factory = default_factory\n",
    "\n",
    "    def __getitem__(self, key):\n",
    "        try:\n",
    "            return OrderedDict.__getitem__(self, key)\n",
    "        except KeyError:\n",
    "            return self.__missing__(key)\n",
    "\n",
    "    def __missing__(self, key):\n",
    "        if self.default_factory is None:\n",
    "            raise KeyError(key)\n",
    "        self[key] = value = self.default_factory()\n",
    "        return value\n",
    "\n",
    "    def __reduce__(self):\n",
    "        if self.default_factory is None:\n",
    "            args = tuple()\n",
    "        else:\n",
    "            args = self.default_factory,\n",
    "        return type(self), args, None, None, self.items()\n",
    "\n",
    "    def copy(self):\n",
    "        return self.__copy__()\n",
    "\n",
    "    def __copy__(self):\n",
    "        return type(self)(self.default_factory, self)\n",
    "\n",
    "    def __deepcopy__(self, memo):\n",
    "        import copy\n",
    "        return type(self)(self.default_factory,\n",
    "                          copy.deepcopy(self.items()))\n",
    "\n",
    "    def __repr__(self):\n",
    "        return 'OrderedDefaultDict(%s, %s)' % (self.default_factory,\n",
    "                                               OrderedDict.__repr__(self))\n"
   ]
  },
  {
   "cell_type": "code",
   "execution_count": 26,
   "metadata": {
    "ExecuteTime": {
     "end_time": "2017-07-18T04:29:20.455956Z",
     "start_time": "2017-07-18T04:29:20.446917Z"
    },
    "collapsed": true,
    "jupyter": {
     "outputs_hidden": true
    },
    "run_control": {
     "frozen": false,
     "read_only": false
    }
   },
   "outputs": [],
   "source": [
    "gencode_v25 = '/home/cmb-panasas2/skchoudh/genomes/hg38/annotation/gencode.v25.annotation.gtf'\n",
    "gencode_v25_db = '/home/cmb-panasas2/skchoudh/genomes/hg38/annotation/gencode.v25.annotation.gtf.db'\n",
    "prefix = '/home/cmb-panasas2/skchoudh/genomes/hg38/annotation/gencode.v25.gffutils'\n",
    "old_prefix = '/home/cmb-panasas2/skchoudh/github_projects/gencode_regions/data/GRCh37/v25/'\n",
    "hg38_chrsizes = '/home/cmb-panasas2/skchoudh/genomes/hg38/fasta/hg38.chrom.sizes'\n"
   ]
  },
  {
   "cell_type": "code",
   "execution_count": 33,
   "metadata": {
    "ExecuteTime": {
     "end_time": "2017-07-18T04:29:20.501740Z",
     "start_time": "2017-07-18T04:29:20.460799Z"
    },
    "collapsed": true,
    "jupyter": {
     "outputs_hidden": true
    },
    "run_control": {
     "frozen": false,
     "read_only": false
    }
   },
   "outputs": [],
   "source": [
    "#db = gffutils.create_db(gencode_v25, dbfn=gencode_v25_db, merge_strategy='merge',\n",
    "#                        disable_infer_genes=True, disable_infer_transcripts=True, force=True)\n",
    "def create_gene_dict(db):\n",
    "    '''\n",
    "    Store each feature line db.all_features() as a dict of dicts\n",
    "    '''\n",
    "    gene_dict = defaultdict(lambda: defaultdict(lambda: defaultdict(list)))\n",
    "    for line_no, feature in enumerate(db.all_features()):\n",
    "        gene_ids = feature.attributes['gene_id']\n",
    "        feature_type = feature.featuretype\n",
    "        if feature_type == 'gene':\n",
    "            if len(gene_ids)!=1:\n",
    "                logging.warning('Found multiple gene_ids on line {} in gtf'.format(line_no))\n",
    "                break\n",
    "            else:\n",
    "                gene_id = gene_ids[0]\n",
    "                gene_dict[gene_id]['gene'] = feature\n",
    "        else:\n",
    "            transcript_ids = feature.attributes['transcript_id']\n",
    "\n",
    "            for gene_id in gene_ids:\n",
    "                for transcript_id in transcript_ids:\n",
    "                    gene_dict[gene_id][transcript_id][feature_type].append(feature)\n",
    "    return gene_dict\n"
   ]
  },
  {
   "cell_type": "code",
   "execution_count": 34,
   "metadata": {
    "ExecuteTime": {
     "end_time": "2017-07-18T04:33:10.200608Z",
     "start_time": "2017-07-18T04:29:20.505951Z"
    },
    "collapsed": true,
    "jupyter": {
     "outputs_hidden": true
    },
    "run_control": {
     "frozen": false,
     "read_only": false
    }
   },
   "outputs": [],
   "source": [
    "db = gffutils.FeatureDB(gencode_v25_db, keep_order=True)\n",
    "gene_dict = create_gene_dict(db)\n"
   ]
  },
  {
   "cell_type": "code",
   "execution_count": 35,
   "metadata": {
    "ExecuteTime": {
     "end_time": "2017-07-18T04:33:10.262951Z",
     "start_time": "2017-07-18T04:33:10.203553Z"
    },
    "collapsed": true,
    "jupyter": {
     "outputs_hidden": true
    },
    "run_control": {
     "frozen": false,
     "read_only": false
    }
   },
   "outputs": [],
   "source": [
    "def get_gene_list(gene_dict):\n",
    "    return list(set(gene_dict.keys()))\n",
    "\n",
    "def get_UTR_regions(utrs, cds):\n",
    "    if len(cds)==0:\n",
    "        return [], []\n",
    "    utr5_regions = []\n",
    "    utr3_regions = []    \n",
    "    cds_sorted = sorted(list(cds), key=lambda x: x.start)\n",
    "    first_cds = cds_sorted[0]\n",
    "    last_cds = cds_sorted[-1]\n",
    "    for orig_utr in utrs:\n",
    "        utr = deepcopy(orig_utr)\n",
    "        ## Push all cds at once\n",
    "        ## Sort later to remove duplicates\n",
    "        strand = utr.strand\n",
    "        if utr.start < first_cds.start:\n",
    "            if utr.stop >= first_cds.start:\n",
    "                utr.stop = first_cds.start - 1\n",
    "            if strand == '+':\n",
    "                utr5_regions.append(utr)\n",
    "            else:\n",
    "                utr3_regions.append(utr)\n",
    "        elif utr.stop > last_cds.stop:\n",
    "            if utr.start <= last_cds.stop:\n",
    "                utr.start = last_cds.stop + 1\n",
    "            if strand == '+':\n",
    "                utr3_regions.append(utr)\n",
    "            else:\n",
    "                utr5_regions.append(utr)\n",
    "        \"\"\"\n",
    "        if strand == '+':\n",
    "            if utr.stop < first_cds.start:\n",
    "                utr.feature_type = 'five_prime_UTR'\n",
    "                utr5_regions.append(utr)\n",
    "            elif utr.start > last_cds.stop:\n",
    "                utr.feature_type = 'three_prime_UTR'\n",
    "                utr3_regions.append(utr)\n",
    "            elif utr.start < first_cds.start:\n",
    "                utr.feature_type = 'five_prime_UTR'\n",
    "                utr.stop = first_cds.start - 1\n",
    "                utr5_regions.append(utr)\n",
    "            elif utr.stop >= last_cds.stop:\n",
    "                utr.feature_type = 'three_prime_UTR'\n",
    "                utr.start = last_cds.stop + 1\n",
    "                utr3_regions.append(utr)\n",
    "            else:\n",
    "                #print('Error: strand + | first cds start: {} | last cds stop: {} | UTR start : {} | UTR stop : {}'.format(first_cds.start,\n",
    "                #                                                                                                                       last_cds.stop,\n",
    "                #                                                                                                                       utr.start,\n",
    "                #                                                                                                                        utr.stop))                                                                            \n",
    "                continue\n",
    "        elif strand == '-':\n",
    "            if utr.stop < first_cds.start:\n",
    "                utr.feature_type = 'three_prime_UTR'\n",
    "                utr3_regions.append(utr)\n",
    "            elif utr.start > last_cds.stop:\n",
    "                utr.feature_type = 'five_prime_UTR'\n",
    "                utr5_regions.append(utr)  \n",
    "            elif utr.start < first_cds.start:\n",
    "                utr.feature_type = 'three_prime_UTR'\n",
    "                utr.stop = first_cds.start - 1\n",
    "                utr3_regions.append(utr)\n",
    "            elif utr.stop >= last_cds.stop:                                                                                          \n",
    "                utr.feature_type = 'five_prime_UTR'\n",
    "                utr.start = last_cds.stop + 1\n",
    "                utr5_regions.append(utr)\n",
    "            else:\n",
    "                # This UTR is not a true UTR\n",
    "                \n",
    "                #print('Error: strand - | first cds start: {} | last cds stop: {} | UTR start : {} | UTR stop : {}'.format(first_cds.start,\n",
    "                #                                                                                                           last_cds.stop,\n",
    "                #                                                                                                           utr.start,\n",
    "                #                                                                                                           utr.stop))\n",
    "                #\n",
    "                continue\n",
    "        \"\"\"\n",
    "    return utr5_regions, utr3_regions\n",
    "    \n",
    "def create_bed(regions, bedtype='0'):\n",
    "    '''Create bed from list of regions\n",
    "    bedtype: 0 or 1\n",
    "        0-Based or 1-based coordinate of the BED\n",
    "    '''\n",
    "    bedstr = ''\n",
    "    for region in regions:\n",
    "        assert len(region.attributes['gene_id']) == 1\n",
    "        ## GTF start is 1-based, so shift by one while writing \n",
    "        ## to 0-based BED format\n",
    "        if bedtype == '0':\n",
    "            start = region.start - 1\n",
    "        else:\n",
    "            start = region.start\n",
    "        bedstr += '{}\\t{}\\t{}\\t{}\\t{}\\t{}\\n'.format(region.chrom,\n",
    "                                             start,\n",
    "                                             region.stop,\n",
    "                                             re.sub('\\.\\d+', '', region.attributes['gene_id'][0]),\n",
    "                                             '.',\n",
    "                                             region.strand)\n",
    "    return bedstr\n",
    "\n",
    "def rename_regions(regions, gene_id):\n",
    "    regions = list(regions)\n",
    "    if len(regions) == 0:\n",
    "        return []\n",
    "    for region in regions:\n",
    "        region.attributes['gene_id'] = gene_id\n",
    "    return regions\n",
    "\n",
    "def merge_regions(db, regions):\n",
    "    if len(regions) == 0:\n",
    "        return []\n",
    "    merged = db.merge(sorted(list(regions), key=lambda x: x.start))\n",
    "    return merged\n",
    "\n",
    "def merge_regions_nostrand(db, regions):\n",
    "    if len(regions) == 0:\n",
    "        return []\n",
    "    merged = db.merge(sorted(list(regions), key=lambda x: x.start), ignore_strand=True)\n",
    "    return merged"
   ]
  },
  {
   "cell_type": "code",
   "execution_count": 36,
   "metadata": {
    "run_control": {
     "frozen": false,
     "read_only": false
    }
   },
   "outputs": [
    {
     "data": {
      "text/plain": [
       "<BedTool(/home/cmb-panasas2/skchoudh/genomes/hg38/annotation/gencode.v25.gffutils.cds_all.bed)>"
      ]
     },
     "execution_count": 36,
     "metadata": {},
     "output_type": "execute_result"
    }
   ],
   "source": [
    "utr5_bed = ''\n",
    "utr3_bed = ''\n",
    "gene_bed = ''\n",
    "exon_bed = ''\n",
    "intron_bed = ''\n",
    "start_codon_bed = ''\n",
    "stop_codon_bed = ''\n",
    "cds_bed = ''\n",
    "\n",
    "gene_list = []\n",
    "\n",
    "for gene_id in get_gene_list(gene_dict):\n",
    "    gene_list.append(gene_dict[gene_id]['gene'])\n",
    "    \n",
    "    utr5_regions, utr3_regions = [], []\n",
    "    exon_regions, intron_regions = [], []\n",
    "    star_codon_regions, stop_codon_regions = [], []\n",
    "    cds_regions = []\n",
    "    utr_regions = []\n",
    "    for feature in gene_dict[gene_id].keys():\n",
    "        if feature == 'gene':\n",
    "            continue\n",
    "        cds = list(gene_dict[gene_id][feature]['CDS'])\n",
    "        exons = list(gene_dict[gene_id][feature]['exon'])\n",
    "        utrs = list(gene_dict[gene_id][feature]['UTR'])\n",
    "\n",
    "        cds = sorted(list(cds), key=lambda x: x.start)\n",
    "        exons = sorted(list(exons), key=lambda x: x.start)\n",
    "        utrs  = sorted(list(utrs), key=lambda x: x.start)\n",
    "        \n",
    "        merged_exons = merge_regions(db, exons)\n",
    "        introns = db.interfeatures(merged_exons)\n",
    "        \n",
    "        exon_regions += exons\n",
    "        intron_regions += introns\n",
    "        cds_regions += cds\n",
    "        utr_regions += utrs\n",
    "\n",
    "    cds_regions = sorted(list(cds_regions), key=lambda x: x.start)\n",
    "    utr_regions = sorted(list(utr_regions), key=lambda x: x.start)\n",
    "    \n",
    "    utr5_regions, utr3_regions = get_UTR_regions(utr_regions, cds_regions)\n",
    "    \n",
    "    merged_utr5 = merge_regions(db, utr5_regions)\n",
    "    renamed_utr5 = rename_regions(merged_utr5, gene_id)\n",
    "    \n",
    "    merged_utr3 = merge_regions(db, utr3_regions)\n",
    "    renamed_utr3 = rename_regions(merged_utr3, gene_id)\n",
    "    \n",
    "    ##merged_exons = merge_regions(db, exon_regions)\n",
    "    ##renamed_exons = rename_regions(merged_exons, gene_id)\n",
    "    \n",
    "    ##merged_introns = merge_regions(db, intron_regions)\n",
    "    ##renamed_introns = rename_regions(merged_introns, gene_id)\n",
    "    \n",
    "    merged_cds = merge_regions(db, cds_regions)\n",
    "    renamed_cds = rename_regions(merged_cds, gene_id)\n",
    "    \n",
    "    utr3_bed += create_bed(renamed_utr3)\n",
    "    utr5_bed += create_bed(renamed_utr5)\n",
    "    ##exon_bed += create_bed(renamed_exons)\n",
    "    ##intron_bed += create_bed(renamed_introns)\n",
    "    cds_bed += create_bed(renamed_cds)\n",
    "    \n",
    "    \n",
    "gene_bed = create_bed(gene_list)\n",
    "gene_bedtool = pybedtools.BedTool(gene_bed, from_string=True)\n",
    "utr5_bedtool = pybedtools.BedTool(utr5_bed, from_string=True)\n",
    "utr3_bedtool = pybedtools.BedTool(utr3_bed, from_string=True)\n",
    "##exon_bedtool = pybedtools.BedTool(exon_bed, from_string=True)\n",
    "##intron_bedtool = pybedtools.BedTool(intron_bed, from_string=True)\n",
    "cds_bedtool = pybedtools.BedTool(cds_bed, from_string=True)\n",
    "\n",
    "gene_bedtool.remove_invalid().sort().saveas('{}.genes_all.bed'.format(prefix))\n",
    "utr5_bedtool.remove_invalid().sort().saveas('{}.UTR5_all.bed'.format(prefix))\n",
    "utr3_bedtool.remove_invalid().sort().saveas('{}.UTR3_all.bed'.format(prefix))\n",
    "##exon_bedtool.remove_invalid().sort().saveas('{}.exon_all.bed'.format(prefix))\n",
    "##intron_bedtool.remove_invalid().sort().saveas('{}.intron_all.bed'.format(prefix))\n",
    "cds_bedtool.remove_invalid().sort().saveas('{}.cds_all.bed'.format(prefix))\n"
   ]
  },
  {
   "cell_type": "code",
   "execution_count": 37,
   "metadata": {},
   "outputs": [
    {
     "data": {
      "text/plain": [
       "\"\\nutr5_cds_subtracted = utr5_all.subtract(cds_bed)\\nutr3_cds_subtracted = utr3_all.subtract(cds_bed)\\nutr5_cds_subtracted.remove_invalid().sort().saveas('{}.UTR5.bed'.format(prefix))\\nutr3_cds_subtracted.remove_invalid().sort().saveas('{}.UTR3.bed'.format(prefix))\\n\""
      ]
     },
     "execution_count": 37,
     "metadata": {},
     "output_type": "execute_result"
    }
   ],
   "source": [
    "# Remove cds from utr5 and utr3\n",
    "# We trust teh CDS coordinates always, so just chuck off the overlapping UTR coordinates\n",
    "utr5_all = pybedtools.BedTool('{}.UTR5.bed'.format(prefix))\n",
    "utr3_all = pybedtools.BedTool('{}.UTR3.bed'.format(prefix))\n",
    "cds_bed =  pybedtools.BedTool('{}.cds.bed'.format(prefix))\n",
    "\n",
    "\"\"\"\n",
    "utr5_cds_subtracted = utr5_all.subtract(cds_bed)\n",
    "utr3_cds_subtracted = utr3_all.subtract(cds_bed)\n",
    "utr5_cds_subtracted.remove_invalid().sort().saveas('{}.UTR5.bed'.format(prefix))\n",
    "utr3_cds_subtracted.remove_invalid().sort().saveas('{}.UTR3.bed'.format(prefix))\n",
    "\"\"\""
   ]
  },
  {
   "cell_type": "code",
   "execution_count": null,
   "metadata": {
    "run_control": {
     "frozen": false,
     "read_only": false
    }
   },
   "outputs": [],
   "source": [
    "for gene_id in get_gene_list(gene_dict):\n",
    "    start_codons = []\n",
    "    stop_codons = []\n",
    "    for start_codon in db.children(gene_id, featuretype='start_codon'):\n",
    "        ## 1 -based stop\n",
    "        ## 0-based start handled while converting to bed\n",
    "        start_codon.stop = start_codon.start\n",
    "        start_codons.append(start_codon)\n",
    "    for stop_codon in db.children(gene_id, featuretype='stop_codon'):\n",
    "        stop_codon.start = stop_codon.stop\n",
    "        stop_codon.stop = stop_codon.stop+1\n",
    "        stop_codons.append(stop_codon)\n",
    "    merged_start_codons = merge_regions(db, start_codons)\n",
    "    renamed_start_codons = rename_regions(merged_start_codons, gene_id)\n",
    "    merged_stop_codons = merge_regions(db, stop_codons)\n",
    "    renamed_stop_codons = rename_regions(merged_stop_codons, gene_id)\n",
    "    \n",
    "    start_codon_bed += create_bed(renamed_start_codons)    \n",
    "    stop_codon_bed += create_bed(renamed_stop_codons)\n",
    "\n",
    "    \n",
    "start_codon_bedtool = pybedtools.BedTool(start_codon_bed, from_string=True)\n",
    "stop_codon_bedtool = pybedtools.BedTool(stop_codon_bed, from_string=True)\n",
    "start_codon_bedtool.remove_invalid().sort().saveas('{}.start_codon.bed'.format(prefix))\n",
    "stop_codon_bedtool.remove_invalid().sort().saveas('{}.stop_codon.bed'.format(prefix))"
   ]
  },
  {
   "cell_type": "code",
   "execution_count": null,
   "metadata": {},
   "outputs": [],
   "source": []
  },
  {
   "cell_type": "code",
   "execution_count": null,
   "metadata": {
    "run_control": {
     "frozen": false,
     "read_only": false
    }
   },
   "outputs": [],
   "source": [
    "## TSS\n",
    "polyA_sites_bed = ''\n",
    "tss_sites_bed = ''\n",
    "for gene_id in get_gene_list(gene_dict):\n",
    "    tss_sites = []\n",
    "    polyA_sites = []\n",
    "    for transcript in db.children(gene_id, featuretype='transcript'):\n",
    "        start_t = copy.deepcopy(transcript)\n",
    "        stop_t = copy.deepcopy(transcript)\n",
    "        \n",
    "        start_t.stop = start_t.start + 1\n",
    "        \n",
    "        stop_t.start = stop_t.stop\n",
    "        \n",
    "        if transcript.strand == '-':\n",
    "            start_t, stop_t = stop_t, start_t\n",
    "        polyA_sites.append(start_t)\n",
    "        tss_sites.append(stop_t)\n",
    "    merged_polyA_sites = merge_regions(db, polyA_sites)\n",
    "    renamed_polyA_sites = rename_regions(merged_polyA_sites, gene_id)    \n",
    "    merged_tss_sites = merge_regions(db, tss_sites)\n",
    "    renamed_tss_sites = rename_regions(merged_tss_sites, gene_id)\n",
    "    polyA_sites_bed += create_bed(renamed_polyA_sites)    \n",
    "    tss_sites_bed += create_bed(renamed_tss_sites)\n",
    "\n",
    "polyA_sites_bedtool = pybedtools.BedTool(polyA_sites_bed, from_string=True)\n",
    "tss_sites_bedtool = pybedtools.BedTool(tss_sites_bed, from_string=True)\n",
    "polyA_sites_bedtool.remove_invalid().sort().saveas('{}.polyA_sites.bed'.format(prefix))\n",
    "tss_sites_bedtool.remove_invalid().sort().saveas('{}.tss_sites.bed'.format(prefix))"
   ]
  },
  {
   "cell_type": "markdown",
   "metadata": {
    "run_control": {
     "frozen": false,
     "read_only": false
    }
   },
   "source": [
    "# TSS"
   ]
  },
  {
   "cell_type": "code",
   "execution_count": null,
   "metadata": {
    "ExecuteTime": {
     "end_time": "2017-07-18T04:34:32.217452Z",
     "start_time": "2017-07-18T04:33:10.264926Z"
    },
    "run_control": {
     "frozen": false,
     "read_only": false
    }
   },
   "outputs": [],
   "source": [
    "tss = tsses(db, as_bed6=True, merge_overlapping=True)\n",
    "tss.remove_invalid().sort().saveas('{}.tss_temp.bed'.format(prefix))\n",
    "promoter = tss.slop(l=1000, r=1000, s=True, g=hg38_chrsizes)\n",
    "promoter.remove_invalid().sort().saveas('{}.promoter.1000.bed'.format(prefix))"
   ]
  },
  {
   "cell_type": "code",
   "execution_count": null,
   "metadata": {
    "ExecuteTime": {
     "end_time": "2017-07-18T04:35:01.247067Z",
     "start_time": "2017-07-18T04:34:32.220296Z"
    },
    "collapsed": true,
    "jupyter": {
     "outputs_hidden": true
    },
    "run_control": {
     "frozen": false,
     "read_only": false
    }
   },
   "outputs": [],
   "source": [
    "for l in [1000, 2000, 3000, 4000, 5000]:\n",
    "    promoter = tss.slop(l=l, r=l, s=True, g=hg38_chrsizes)\n",
    "    promoter.remove_invalid().sort().saveas('{}.promoter.{}.bed'.format(prefix, l))"
   ]
  },
  {
   "cell_type": "markdown",
   "metadata": {
    "run_control": {
     "frozen": false,
     "read_only": false
    }
   },
   "source": [
    "# tRNA\n"
   ]
  },
  {
   "cell_type": "code",
   "execution_count": null,
   "metadata": {
    "run_control": {
     "frozen": false,
     "read_only": false
    }
   },
   "outputs": [],
   "source": [
    "for x in db.featuretypes():\n",
    "    print(x)"
   ]
  },
  {
   "cell_type": "code",
   "execution_count": null,
   "metadata": {
    "run_control": {
     "frozen": false,
     "read_only": false
    }
   },
   "outputs": [],
   "source": [
    "tRNA_sites = []\n",
    "tRNA_bed = ''\n",
    "for gene_id in get_gene_list(gene_dict):\n",
    "    for transcript in db.children(gene_id, featuretype='transcript'):\n",
    "        if 'tRNA' in transcript.attributes['gene_type'] or 'Mt_tRNA' in transcript.attributes['gene_type']:\n",
    "            tRNA_sites.append(transcript)\n",
    "    #merged_tRNA_sites = merge_regions_nostrand(db, tRNA_sites)\n",
    "    #renamed_tRNA_sites = rename_regions(merged_tRNA_sites, gene_id)\n",
    "    tRNA_bed += create_bed(tRNA_sites)\n",
    "\n",
    "tRNA_sites_bedtool = pybedtools.BedTool(tRNA_bed, from_string=True)\n",
    "tRNA_sites_bedtool.remove_invalid().sort().saveas('{}.tRNA_sites.bed'.format(prefix))"
   ]
  },
  {
   "cell_type": "code",
   "execution_count": null,
   "metadata": {
    "run_control": {
     "frozen": false,
     "read_only": false
    }
   },
   "outputs": [],
   "source": [
    "tRNA_sites_bedtool.to_dataframe()"
   ]
  },
  {
   "cell_type": "code",
   "execution_count": null,
   "metadata": {
    "run_control": {
     "frozen": false,
     "read_only": false
    }
   },
   "outputs": [],
   "source": [
    "rRNA_sites = []\n",
    "rRNA_bed = ''\n",
    "for gene_id in get_gene_list(gene_dict):\n",
    "    for transcript in db.children(gene_id, featuretype='transcript'):\n",
    "        if 'rRNA' in transcript.attributes['gene_type']:\n",
    "            rRNA_sites.append(transcript)\n",
    "    #renamed_rRNA_sites = rename_regions(rRNA_sites, gene_id)\n",
    "    rRNA_bed += create_bed(rRNA_sites)\n",
    "\n",
    "rRNA_sites_bedtool = pybedtools.BedTool(rRNA_bed, from_string=True)\n",
    "rRNA_sites_bedtool.remove_invalid().sort().saveas('{}.rRNA_sites.bed'.format(prefix))"
   ]
  },
  {
   "cell_type": "code",
   "execution_count": null,
   "metadata": {
    "run_control": {
     "frozen": false,
     "read_only": false
    }
   },
   "outputs": [],
   "source": [
    "rRNA_sites_bedtool.to_dataframe()"
   ]
  },
  {
   "cell_type": "markdown",
   "metadata": {
    "run_control": {
     "frozen": false,
     "read_only": false
    }
   },
   "source": [
    "# Investigate overlapping CDS and UTRs"
   ]
  },
  {
   "cell_type": "code",
   "execution_count": null,
   "metadata": {},
   "outputs": [],
   "source": [
    "gene_id = 'ENSG00000279457.3'\n",
    "for feature in gene_dict[gene_id].keys():\n",
    "    if feature == 'gene':\n",
    "        continue\n",
    "    cds = list(gene_dict[gene_id][feature]['CDS'])\n",
    "    cds = sorted(list(cds), key=lambda x: x.start)\n",
    "\n",
    "    for c in cds:\n",
    "        print('CDS: {} {}'.format(c.start, c.stop))\n",
    "        \n",
    "    #exons = list(gene_dict[gene_id][feature]['exon'])\n",
    "    #merged_exons = merge_regions(db, exons)\n",
    "    introns = db.interfeatures(merged_exons)\n",
    "    #utr5_region, utr3_region = get_UTR_regions(gene_dict, gene_id, feature, cds)\n",
    "    utrs = gene_dict[gene_id][feature]['UTR']\n",
    "    for utr in utrs:\n",
    "        print('UTR : {} {}'.format(utr.start, utr.stop))\n",
    "    print ('#######################')"
   ]
  },
  {
   "cell_type": "code",
   "execution_count": null,
   "metadata": {},
   "outputs": [],
   "source": []
  }
 ],
 "metadata": {
  "hide_input": false,
  "kernelspec": {
   "display_name": "Python (riboraptor)",
   "language": "python",
   "name": "riboraptor"
  },
  "language_info": {
   "codemirror_mode": {
    "name": "ipython",
    "version": 3
   },
   "file_extension": ".py",
   "mimetype": "text/x-python",
   "name": "python",
   "nbconvert_exporter": "python",
   "pygments_lexer": "ipython3",
   "version": "3.7.3"
  },
  "latex_envs": {
   "LaTeX_envs_menu_present": true,
   "autocomplete": true,
   "bibliofile": "biblio.bib",
   "cite_by": "apalike",
   "current_citInitial": 1,
   "eqLabelWithNumbers": true,
   "eqNumInitial": 1,
   "hotkeys": {
    "equation": "Ctrl-E",
    "itemize": "Ctrl-I"
   },
   "labels_anchors": false,
   "latex_user_defs": false,
   "report_style_numbering": false,
   "user_envs_cfg": false
  },
  "toc": {
   "colors": {
    "hover_highlight": "#DAA520",
    "running_highlight": "#FF0000",
    "selected_highlight": "#FFD700"
   },
   "moveMenuLeft": true,
   "nav_menu": {
    "height": "12px",
    "width": "252px"
   },
   "navigate_menu": true,
   "number_sections": true,
   "sideBar": true,
   "threshold": 4,
   "toc_cell": true,
   "toc_section_display": "block",
   "toc_window_display": true,
   "widenNotebook": false
  }
 },
 "nbformat": 4,
 "nbformat_minor": 4
}
